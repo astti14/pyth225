{
  "nbformat": 4,
  "nbformat_minor": 0,
  "metadata": {
    "colab": {
      "name": "HW_Asta Galinyte_dict_psets.ipynb",
      "provenance": [],
      "collapsed_sections": [],
      "include_colab_link": true
    },
    "kernelspec": {
      "name": "python3",
      "display_name": "Python 3"
    }
  },
  "cells": [
    {
      "cell_type": "markdown",
      "metadata": {
        "id": "view-in-github",
        "colab_type": "text"
      },
      "source": [
        "<a href=\"https://colab.research.google.com/github/astti14/pyth225/blob/master/HW_Asta_Galinyte_dict_psets.ipynb\" target=\"_parent\"><img src=\"https://colab.research.google.com/assets/colab-badge.svg\" alt=\"Open In Colab\"/></a>"
      ]
    },
    {
      "cell_type": "markdown",
      "metadata": {
        "id": "hIHgBfgSSN8D",
        "colab_type": "text"
      },
      "source": [
        "#  DICTS\n",
        "\n",
        "\n",
        "\n"
      ]
    },
    {
      "cell_type": "markdown",
      "metadata": {
        "id": "_yv4DI9GSU01",
        "colab_type": "text"
      },
      "source": [
        "## BASICS\n"
      ]
    },
    {
      "cell_type": "markdown",
      "metadata": {
        "id": "YXndgQTcSWCF",
        "colab_type": "text"
      },
      "source": [
        "### P1.PY"
      ]
    },
    {
      "cell_type": "code",
      "metadata": {
        "id": "sycqY3FhSN8E",
        "colab_type": "code",
        "outputId": "ed70a153-4bcd-4ef5-8ee1-e14c3a7e75d8",
        "colab": {
          "base_uri": "https://localhost:8080/",
          "height": 141
        }
      },
      "source": [
        "\"\"\"\n",
        "Intro to Dict Concepts\n",
        "\"\"\"\n",
        "# A) Declare an empty dict as d1.\n",
        "\n",
        "d1 ={}\n",
        "d2 = dict()\n",
        "# B) Create a dict called d2 containing the first and last names below:\n",
        "# Anthony Paollelo, Ping Qiao, Enrique Alvarez, Arjun Dhir \n",
        "\n",
        "d1.update({'Anthony':'Paollelo','Ping':'Qiao', 'Enrique':'Alvarez', 'Arjun':'Dhi'})\n",
        "d2 =dict (Anthony='Paollelo', Ping='Qiao', Enrique='Alvarez', Arjun='Dhi')\n",
        "print (d1)\n",
        "print (d2)\n",
        "# C) Add Allison Zhang person to d2.\n",
        "\n",
        "d2 = d1\n",
        "d1.update ({'Allison':'Zhang'})\n",
        "print (d2)\n",
        "# D) How many people are now in d2? Print out all their *first* names in the vars below.\n",
        "\n",
        "num_people = len (list (d2))\n",
        "first_names = d2.keys() \n",
        "print (num_people)\n",
        "print (first_names)\n",
        "\n",
        "# E) Delete a random person from d2 and print his/her name in the var below.\n",
        "x = d2.popitem()\n",
        "print (x) \n",
        "\n",
        "# x = list (x)\n",
        "# x = set (x)\n",
        "# print (x)\n",
        "# print (type (x))\n",
        "\n",
        "# F) Re-add the name you deleted to the end of d2.\n",
        "\n",
        "# Do not know how to add these keys back to the dict as it is in tuple format?..\n",
        "\n",
        "\n",
        "\n"
      ],
      "execution_count": 0,
      "outputs": [
        {
          "output_type": "stream",
          "text": [
            "{'Anthony': 'Paollelo', 'Ping': 'Qiao', 'Enrique': 'Alvarez', 'Arjun': 'Dhi'}\n",
            "{'Anthony': 'Paollelo', 'Ping': 'Qiao', 'Enrique': 'Alvarez', 'Arjun': 'Dhi'}\n",
            "{'Anthony': 'Paollelo', 'Ping': 'Qiao', 'Enrique': 'Alvarez', 'Arjun': 'Dhi', 'Allison': 'Zhang'}\n",
            "5\n",
            "dict_keys(['Anthony', 'Ping', 'Enrique', 'Arjun', 'Allison'])\n",
            "('Allison', 'Zhang')\n",
            "ERROR! Session/line number was not unique in database. History logging moved to new session 60\n"
          ],
          "name": "stdout"
        }
      ]
    },
    {
      "cell_type": "code",
      "metadata": {
        "colab_type": "code",
        "id": "KtWXtBVSGTQg",
        "colab": {}
      },
      "source": [
        "\n",
        "\n",
        "\n"
      ],
      "execution_count": 0,
      "outputs": []
    },
    {
      "cell_type": "markdown",
      "metadata": {
        "id": "vGjiwyuNSN8H",
        "colab_type": "text"
      },
      "source": [
        "\n",
        "\n",
        "### P2.PY\n",
        "\n",
        "\n"
      ]
    },
    {
      "cell_type": "code",
      "metadata": {
        "id": "0vq219wISN8J",
        "colab_type": "code",
        "outputId": "504ca71b-dac3-4685-f88f-0dd7a8ecc1fd",
        "colab": {
          "base_uri": "https://localhost:8080/",
          "height": 70
        }
      },
      "source": [
        "\"\"\"\n",
        "Predators & Prey\n",
        "\"\"\"\n",
        "\n",
        "# A) Create a dict called \"pred_prey\", containing:\n",
        "### 3 carnivorous marine animals\n",
        "### For each carnivore, 3 examples of its prey\n",
        "\n",
        "pred_prey = {\n",
        "    'seal': ['shrimps', 'crabs', 'lobsters'],\n",
        "    'dolphin': ['fish', 'mussels', 'clams'],\n",
        "    'walruse':['octopus', 'squid', 'mollusks']\n",
        "    }\n",
        "\n",
        "\n",
        "\n",
        "# B) Print out the 2nd predator and its prey in this format:\n",
        "#### predator2: prey1, prey2, & prey3\n",
        "\n",
        "pred_keys = list (pred_prey.keys())\n",
        "pred_values = list (pred_prey.values())\n",
        "print (pred_keys, pred_values)\n",
        "print(f'{pred_keys[1]}:{pred_values[1][0:3]}')\n",
        "  \n",
        "# C) Print a unique collection of all the prey in a variable called \"prey\".\n",
        "prey = pred_values\n",
        "print (prey)\n",
        "\n",
        "How to take off the sub-brackets in the new list?\n"
      ],
      "execution_count": 0,
      "outputs": [
        {
          "output_type": "stream",
          "text": [
            "['seal', 'dolphin', 'walruse'] [['shrimps', 'crabs', 'lobsters'], ['fish', 'mussels', 'clams'], ['octopus', 'squid', 'mollusks']]\n",
            "dolphin:['fish', 'mussels', 'clams']\n",
            "[['shrimps', 'crabs', 'lobsters'], ['fish', 'mussels', 'clams'], ['octopus', 'squid', 'mollusks']]\n"
          ],
          "name": "stdout"
        }
      ]
    },
    {
      "cell_type": "markdown",
      "metadata": {
        "id": "2n4lE5O2SN8N",
        "colab_type": "text"
      },
      "source": [
        "\n",
        "\n",
        "### P3.PY\n",
        "\n",
        "\n"
      ]
    },
    {
      "cell_type": "code",
      "metadata": {
        "id": "7mg1LKIdSN8O",
        "colab_type": "code",
        "outputId": "3b2e0f86-1f38-4056-fe1c-14f799c575d4",
        "colab": {
          "base_uri": "https://localhost:8080/",
          "height": 35
        }
      },
      "source": [
        "\"\"\"\n",
        "Merging Dicts\n",
        "\"\"\"\n",
        "\n",
        "# Merge these two dicts without creating a new one.\n",
        "\n",
        "d1 = {'a': 100, 'b': 200}\n",
        "d2 = {'c': 300, 'd': 400, 'e': 500}\n",
        "\n",
        "d1.update (d2)\n",
        "print (d1)"
      ],
      "execution_count": 0,
      "outputs": [
        {
          "output_type": "stream",
          "text": [
            "{'a': 100, 'b': 200, 'c': 300, 'd': 400, 'e': 500}\n"
          ],
          "name": "stdout"
        }
      ]
    },
    {
      "cell_type": "markdown",
      "metadata": {
        "id": "pPpGZbyBSN8Q",
        "colab_type": "text"
      },
      "source": [
        "\n",
        "\n",
        "### P4.PY\n",
        "\n",
        "\n"
      ]
    },
    {
      "cell_type": "code",
      "metadata": {
        "id": "HLyWTctsSN8R",
        "colab_type": "code",
        "outputId": "0fa49d81-23e9-4418-f5c0-b0f74b4e9885",
        "colab": {
          "base_uri": "https://localhost:8080/",
          "height": 35
        }
      },
      "source": [
        "\"\"\"\n",
        "Lists to Dicts\n",
        "\"\"\"\n",
        "\n",
        "# Turn these two lists into a dict called grades.\n",
        "\n",
        "names = ['Taq', 'Zola', 'Valerie', 'Valerie']\n",
        "scores = [[98, 89, 92, 94], [86, 45, 98, 100], [100, 100, 100, 100], [76, 79, 80, 82]]\n",
        "\n",
        "grades = dict (zip(names, scores))\n",
        "print (grades)"
      ],
      "execution_count": 0,
      "outputs": [
        {
          "output_type": "stream",
          "text": [
            "{'Taq': [98, 89, 92, 94], 'Zola': [86, 45, 98, 100], 'Valerie': [76, 79, 80, 82]}\n"
          ],
          "name": "stdout"
        }
      ]
    },
    {
      "cell_type": "markdown",
      "metadata": {
        "id": "j2WZlr4aSN8T",
        "colab_type": "text"
      },
      "source": [
        "## DICT MANIPULATION\n",
        "\n"
      ]
    },
    {
      "cell_type": "markdown",
      "metadata": {
        "id": "CD6sOl1NSlUd",
        "colab_type": "text"
      },
      "source": [
        "### P1.PY"
      ]
    },
    {
      "cell_type": "code",
      "metadata": {
        "id": "kevedbhjSN8U",
        "colab_type": "code",
        "outputId": "15aecaf5-0764-4e1d-d4ed-c8b4eb52b062",
        "colab": {
          "base_uri": "https://localhost:8080/",
          "height": 88
        }
      },
      "source": [
        "\"\"\"\n",
        "Basic Login\n",
        "\"\"\"\n",
        "\n",
        "# Imagine you work for a movie streaming service. You're in charge of \n",
        "# safeguarding user privacy by ensuring the login feature remains secure. \n",
        "# For the sake of example only, below is the dict of user login info. Normally, \n",
        "# you wouldn't have access to see this unencrypted of course!\n",
        "\n",
        "users = {\n",
        "\t'person@email.com': 'PassWord',\n",
        "\t'someone@email.com': 'hiitsme',\n",
        "\t'me@email.com': 'myPassword',\n",
        "\t'anyone@email.com': 'IMawesome',\n",
        "\t'guy@email.com': 'pa$$wordz'\n",
        "\t# etc\n",
        "}\n",
        "# A user enters the below login info (email and password) for your app.\n",
        "# \n",
        "#  Search your database of user logins to see if this account exists and if the\n",
        "#  password matches what you have on file. If the login credentials are correct,\n",
        "#  print \"Successful login!\". Otherwise, print \"The login info you entered does not match any of our records.\"\n",
        "\n",
        "\n",
        "current_user = { 'me@email.com': 'myPassword' }\n",
        "user_input = list (current_user)\n",
        "check_password = users.get ('me@email.com',[])\n",
        "print (check_password)\n",
        "if (len (check_password)) > 0:\n",
        "\tprint ('user is valid')\n",
        "else:\n",
        "\tprint ('user is not valid')\n",
        "\n",
        "password_entered = current_user.get (user_input[0],[])\n",
        "password_in_database = users.get (user_input[0],[])\n",
        "if password_entered == password_in_database:\n",
        "\tprint ('Successful login!')\n",
        "else:\n",
        "\tprint ('The login info you entered does not match any of our records.')"
      ],
      "execution_count": 0,
      "outputs": [
        {
          "output_type": "stream",
          "text": [
            "myPassword\n",
            "user is valid\n",
            "Successful login!\n",
            "ERROR! Session/line number was not unique in database. History logging moved to new session 61\n"
          ],
          "name": "stdout"
        }
      ]
    },
    {
      "cell_type": "markdown",
      "metadata": {
        "id": "KbjvMBP_SN8W",
        "colab_type": "text"
      },
      "source": [
        "\n",
        "\n",
        "### P2.PY\n",
        "\n",
        "\n"
      ]
    },
    {
      "cell_type": "code",
      "metadata": {
        "id": "SjdXQ_MiSN8X",
        "colab_type": "code",
        "outputId": "87e76b93-226e-4c71-ebae-8445bc0c719e",
        "colab": {
          "base_uri": "https://localhost:8080/",
          "height": 195
        }
      },
      "source": [
        "\"\"\"\n",
        "Math with Girl Scout Cookies\n",
        "\"\"\"\n",
        "Wendy = {'tagalongs': 5, 'thin mints': 12, 'samoas': 8}\n",
        "Connie = {'tagalongs': 10, 'thin mints': 4, 'samoas': 12}\n",
        "Francesca = {'tagalongs': 18, 'thin mints': 14, 'samoas': 10}\n",
        "\n",
        "# Print out the number of boxes of girl scout cookies that each girl in the troop sold in the below format:\n",
        "\t# Wendy: _____\n",
        "\t# Connie: _____\n",
        "\t# Francesca: _____ )\n",
        "lisw =[]\n",
        "lisc = []\n",
        "lisf = []\n",
        "for key, value in Wendy.items ():\n",
        "\tlisw.append (value)\n",
        "\ttotalw = sum (lisw)\n",
        "\n",
        "for key, value in Connie.items ():\n",
        "\tlisc.append (value)\n",
        "\ttotalc = sum (lisc)\n",
        "\n",
        "for key, value in Francesca.items ():\n",
        "\tlisf.append (value)\n",
        "\ttotalf = sum (lisf)\n",
        "print (f'Wendy: {totalw}\\nConnie: {totalc}\\nFrancesca: {totalf}')\n",
        "\n",
        "\n",
        "# For each type of girl scout cookie, print out the total number of boxes sold in the below format:\n",
        "# lis = []\n",
        "# lis = list (Wendy) + list (Connie)\n",
        "# print (lis)\n",
        "tagalongs = Wendy.get('tagalongs',[]) + Connie.get('tagalongs',[]) + Francesca.get('tagalongs',[])\n",
        "thin_mints = Wendy.get('thin mints',[]) + Connie.get('thin mints',[]) + Francesca.get('thin mints',[])\n",
        "samoas = Wendy.get('samoas',[]) + Connie.get('samoas',[]) + Francesca.get('samoas',[])\n",
        "\n",
        "print (f'Total tagalongs: {tagalongs}\\nTotal thin mints: {thin_mints}\\nTotal samoas: {samoas}')\n",
        "\n",
        "# For each type of girl scout cookie, print out the average number of boxes sold in the below format:\n",
        "\n",
        "avg_tagalongs = (Wendy.get('tagalongs',[]) + Connie.get('tagalongs',[]) + Francesca.get('tagalongs',[])) / 3\n",
        "avg_thin_mints = (Wendy.get('thin mints',[]) + Connie.get('thin mints',[]) + Francesca.get('thin mints',[])) / 3\n",
        "avg_samoas = (Wendy.get('samoas',[]) + Connie.get('samoas',[]) + Francesca.get('samoas',[])) / 3\n",
        "\n",
        "print (f'Average tagalongs: {avg_tagalongs}\\nAverage thin mints: {avg_thin_mints}\\nAverage samoas: {avg_samoas}')\n",
        "\n",
        "# Print out total the number of boxes of cookies the girls sold collectively as follows:\n",
        "\n",
        "print (f'This year we sold {tagalongs + thin_mints + samoas} boxes!') \n",
        " "
      ],
      "execution_count": 0,
      "outputs": [
        {
          "output_type": "stream",
          "text": [
            "Wendy: 25\n",
            "Connie: 26\n",
            "Francesca: 42\n",
            "Total tagalongs: 33\n",
            "Total thin mints: 30\n",
            "Total samoas: 30\n",
            "Average tagalongs: 11.0\n",
            "Average thin mints: 10.0\n",
            "Average samoas: 10.0\n",
            "This year we sold 93 boxes!\n"
          ],
          "name": "stdout"
        }
      ]
    },
    {
      "cell_type": "markdown",
      "metadata": {
        "id": "U32QUUqHSN8b",
        "colab_type": "text"
      },
      "source": [
        "\n",
        "\n",
        "### P3.PY\n",
        "\n",
        "\n"
      ]
    },
    {
      "cell_type": "code",
      "metadata": {
        "id": "UfPFoSqGSN8d",
        "colab_type": "code",
        "outputId": "4f9a41d1-3f29-4a93-a797-7194b6b81c13",
        "colab": {
          "base_uri": "https://localhost:8080/",
          "height": 35
        }
      },
      "source": [
        "\"\"\"\n",
        "Inverting Keys & Values\n",
        "\"\"\"\n",
        "\n",
        "# Invert dict1 - make the current keys into values and the current values into keys.\n",
        "\n",
        "\n",
        "dict1 = { \"k1\" : \"v1\", \"k2\" : \"v2\", \"k3\" : \"v1\" }\n",
        "inverted_dict1 = dict(map(reversed,dict1.items()))\n",
        "print (inverted_dict1)\n",
        "\n"
      ],
      "execution_count": 0,
      "outputs": [
        {
          "output_type": "stream",
          "text": [
            "{'v1': 'k3', 'v2': 'k2'}\n"
          ],
          "name": "stdout"
        }
      ]
    },
    {
      "cell_type": "markdown",
      "metadata": {
        "id": "1Z5ZE-l3T-Zs",
        "colab_type": "text"
      },
      "source": [
        "## DICT LOOPS\n",
        "\n",
        "\n"
      ]
    },
    {
      "cell_type": "markdown",
      "metadata": {
        "id": "qOHH_tdgUIzl",
        "colab_type": "text"
      },
      "source": [
        "### P1.PY"
      ]
    },
    {
      "cell_type": "code",
      "metadata": {
        "id": "VAvRbaZiT-Zt",
        "colab_type": "code",
        "outputId": "ea198f7f-f947-4d35-d15f-d22498ef7d13",
        "colab": {
          "base_uri": "https://localhost:8080/",
          "height": 124
        }
      },
      "source": [
        "\"\"\"\n",
        "Contacts\n",
        "\"\"\"\n",
        "\n",
        "# You went to a conference and got people to sign up for text updates from your\n",
        "#  startup. Go through this dict to make the phone numbers readable to a computer. \n",
        "\n",
        "# Hint: It can't include any non-numeric\n",
        "# characters.\n",
        "\n",
        "contacts = {\n",
        "\t'Jamie': '1.192.168.0143',\n",
        "\t'Kartik': '1.837.209.1121',\n",
        "\t'Grant': '1.826.386.1758',\n",
        "\t'Brandon': '1.935.297.9447',\n",
        "\t'Monique': '1.702.716.5353',\n",
        "\t'Sohom': '1.576.619.6100',\n",
        "}\n",
        "\n",
        "for k, v in contacts.items():\n",
        "\tcontacts_m = {k: v.replace('.','')}\n",
        "\tprint(contacts_m)\n",
        "\t\n",
        "# HOW TO STRIP?"
      ],
      "execution_count": 0,
      "outputs": [
        {
          "output_type": "stream",
          "text": [
            "{'Jamie': '11921680143'}\n",
            "{'Kartik': '18372091121'}\n",
            "{'Grant': '18263861758'}\n",
            "{'Brandon': '19352979447'}\n",
            "{'Monique': '17027165353'}\n",
            "{'Sohom': '15766196100'}\n"
          ],
          "name": "stdout"
        }
      ]
    },
    {
      "cell_type": "markdown",
      "metadata": {
        "id": "I9eekKo7T-Zv",
        "colab_type": "text"
      },
      "source": [
        "\n",
        "\n",
        "### P2.PY\n",
        "\n",
        "\n"
      ]
    },
    {
      "cell_type": "code",
      "metadata": {
        "id": "rjRPhf-oT-Zw",
        "colab_type": "code",
        "colab": {}
      },
      "source": [
        "\"\"\"\n",
        "Grades\n",
        "\"\"\"\n",
        "# Here's a dict containing students' grades from the semester's assignments.\n",
        "\n",
        "students = {\n",
        "  'Ashton': [86, 45, 98, 100],\n",
        "  'Sierra': [100, 100, 100, 100],\n",
        "  'Zach': [38, 49, 90, 87],\n",
        "  'Manuel': [98, 92, 86, 100],\n",
        "  'Felicia': [94, 87, 89, 95],\n",
        "  'Ankur': [75, 77, 77, 85],\n",
        "  'Ananya': [98, 94, 87, 92],\n",
        "  'Nick': [79, 84, 89, 90],\n",
        "  'Olivia': [83, 91, 69, 85],\n",
        "  'Molly': [83, 74, 72, 90]\n",
        "}\n",
        "\n",
        "# p 1.1) Create a dict called num_grades to store each student's average numerical grade for the semester.\n",
        "\n",
        "for k, num_grades in students.items():\n",
        "  num_grades = sum (num_grades) / len (num_grades)\n",
        "  print (f'Average grades {k}: {num_grades}') \n",
        "\n",
        "\n",
        "\n",
        "# p 1.2) Create a dict called letter_grades to store each student's final letter grade for the semester. Use A, B, C, D, and F as grades per the standard grading scale.\n",
        "\n",
        "# letter_grades = \n",
        "\n",
        "\n",
        "\n",
        "# p 1.3) Create a list of honor roll students (i.e. students who got A's).\n",
        "\n",
        "# honor_roll "
      ],
      "execution_count": 0,
      "outputs": []
    },
    {
      "cell_type": "markdown",
      "metadata": {
        "id": "fjXYhpR_T-Zz",
        "colab_type": "text"
      },
      "source": [
        "\n",
        "\n",
        "### P3.PY\n",
        "\n",
        "\n"
      ]
    },
    {
      "cell_type": "code",
      "metadata": {
        "id": "dnNTo_y5T-Z0",
        "colab_type": "code",
        "colab": {}
      },
      "source": [
        "\"\"\"\n",
        "Price Inventory\n",
        "\"\"\"\n",
        "\n",
        "# Imagine you're the owner of an Italian restaurant. You're evaluating your pricing to make sure it's up to date with the latest costs of making each menu item (see the menu prices and costs dicts below). Evaluate whether each item's price returns a profit margin of at least $1.00. If it doesn't, update the menu_prices dict with a new price that gives the item a $1.00 profit margin. Then print out the items which you've repriced in a new dict called price_increases.\n",
        "\n",
        "menu_prices = {\n",
        "\t'fettuccine bolognese': 14.99,\n",
        "\t'gnocchi gorgonzola': 10.99,\n",
        "\t'chicken parmigiano': 13.99,\n",
        "\t'butternut squash risotto': 9.99,\n",
        "\t'spaghetti carbonara': 12.99,\n",
        "\t'pizza margherita': 12.99,\n",
        "\t'chicken marsala': 13.99\n",
        "}\n",
        "\n",
        "menu_costs = {\n",
        "\t'fettuccine bolognese': 12.50,\n",
        "\t'gnocchi gorgonzola': 11.25,\n",
        "\t'chicken parmigiano': 11.75,\n",
        "\t'butternut squash risotto': 6.33,\n",
        "\t'spaghetti carbonara': 12.90,\n",
        "\t'pizza margherita': 14.00,\n",
        "\t'chicken marsala': 11.75\n",
        "}\n",
        "\n",
        "# price_increases = \n",
        "\n"
      ],
      "execution_count": 0,
      "outputs": []
    },
    {
      "cell_type": "markdown",
      "metadata": {
        "id": "OY4HIe9zSN8g",
        "colab_type": "text"
      },
      "source": [
        "## COUNTERS CHALLENGE\n",
        "\n",
        "\n"
      ]
    },
    {
      "cell_type": "markdown",
      "metadata": {
        "id": "n6-wbcqISxIr",
        "colab_type": "text"
      },
      "source": [
        "### P1.PY"
      ]
    },
    {
      "cell_type": "code",
      "metadata": {
        "id": "LKLiEr_3SN8g",
        "colab_type": "code",
        "outputId": "7f4d4478-889d-4119-dc1f-0fe28256846a",
        "colab": {
          "base_uri": "https://localhost:8080/",
          "height": 52
        }
      },
      "source": [
        "\"\"\"\n",
        "Word Frequency\n",
        "\"\"\"\n",
        "\n",
        "# Print out the number of words in this movie quote. Find and print out the most common word in the quote and how many times it was used.\n",
        "### Hint: You do not need a loop for this. Look up the Counter docs in python3.\n",
        "\n",
        "from collections import Counter\n",
        "\n",
        "princess_bride = [\n",
        "'Hello', 'my', 'name', 'is', 'Inigo', 'Montoya',\n",
        "'You', 'killed', 'my', 'father',\n",
        "'Prepare', 'to', 'die'\n",
        "]\n",
        "\n",
        "cnt = Counter ()\n",
        "for word in princess_bride:\n",
        "  cnt [word] +=1\n",
        "print (cnt)\n",
        "print (Counter(princess_bride).most_common (1))\n",
        "\n",
        "\n",
        "# p.s. You might use this to help analyze the most common topic in comments or reviews from your users to help understand the best places to improve you product."
      ],
      "execution_count": 0,
      "outputs": [
        {
          "output_type": "stream",
          "text": [
            "Counter({'my': 2, 'Hello': 1, 'name': 1, 'is': 1, 'Inigo': 1, 'Montoya': 1, 'You': 1, 'killed': 1, 'father': 1, 'Prepare': 1, 'to': 1, 'die': 1})\n",
            "[('my', 2)]\n"
          ],
          "name": "stdout"
        }
      ]
    },
    {
      "cell_type": "markdown",
      "metadata": {
        "id": "7L4oLSDpSN8n",
        "colab_type": "text"
      },
      "source": [
        "\n",
        "\n",
        "### P2.PY\n",
        "\n",
        "\n"
      ]
    },
    {
      "cell_type": "code",
      "metadata": {
        "id": "MYo0kTxuSN8o",
        "colab_type": "code",
        "outputId": "0ea81ef6-7f36-4978-a006-c9fc2d1da231",
        "colab": {
          "base_uri": "https://localhost:8080/",
          "height": 35
        }
      },
      "source": [
        "\"\"\"\n",
        "Summing Dict Values\n",
        "\"\"\"\n",
        "\n",
        "# Two Kindergarten teachers poll their classes for what fruit they want to eat \n",
        "# for snacktime tomorrow. Only one of them is going shopping, so she needs to \n",
        "# know how many of each fruit she needs to buy in total. Tally these up and assign them to the \"shopping_list\" dict.\n",
        "\n",
        "poll1 = {'apples': 8, 'bananas': 12}\n",
        "poll2 = {'apples': 6, 'bananas': 6, 'clementines': 8}\n",
        "poll3 = []\n",
        "poll4 = []\n",
        "a = {}\n",
        "poll3 = list (poll1.values())\n",
        "poll4 = list (poll2)\n",
        "# for k, v in poll1.items() and poll2.items():\n",
        "#   a = poll1.get (k,[]) + poll2.get (k, [])\n",
        "  \n",
        "print(poll3, poll4) \n",
        "\n",
        "# DON'T KNOW HOW TO ADD UP?\n",
        "\n",
        "# poll1_lis = list (poll1.items())\n",
        "# poll2_lis = list (poll2.items())\n",
        "# print (poll1_lis, poll2_lis)\n",
        "\n",
        "# polls = poll1_lis + poll2_lis\n",
        "# print (polls)\n",
        "# shopping_list \n"
      ],
      "execution_count": 9,
      "outputs": [
        {
          "output_type": "stream",
          "text": [
            "[8, 12] ['apples', 'bananas', 'clementines']\n"
          ],
          "name": "stdout"
        }
      ]
    }
  ]
}