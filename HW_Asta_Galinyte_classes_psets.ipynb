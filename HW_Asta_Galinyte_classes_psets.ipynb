{
  "nbformat": 4,
  "nbformat_minor": 0,
  "metadata": {
    "colab": {
      "name": "HW_Asta_Galinyte_classes_psets.ipynb",
      "provenance": [],
      "collapsed_sections": [
        "L9e1xwP0QVSu"
      ],
      "include_colab_link": true
    },
    "kernelspec": {
      "name": "python3",
      "display_name": "Python 3"
    }
  },
  "cells": [
    {
      "cell_type": "markdown",
      "metadata": {
        "id": "view-in-github",
        "colab_type": "text"
      },
      "source": [
        "<a href=\"https://colab.research.google.com/github/astti14/pyth225/blob/master/HW_Asta_Galinyte_classes_psets.ipynb\" target=\"_parent\"><img src=\"https://colab.research.google.com/assets/colab-badge.svg\" alt=\"Open In Colab\"/></a>"
      ]
    },
    {
      "cell_type": "markdown",
      "metadata": {
        "id": "RyPJy42MQVR4",
        "colab_type": "text"
      },
      "source": [
        "#  CLASSES\n",
        "\n",
        "\n"
      ]
    },
    {
      "cell_type": "code",
      "metadata": {
        "id": "1hbnIf7DEKAs",
        "colab_type": "code",
        "colab": {}
      },
      "source": [
        "class Student:\n",
        "  # ALL functions defined inside of a class are called \"methods\"\n",
        "  # methods are just functions that belong to a class\n",
        "  # the first parameter of all methods must be SELF\n",
        "  # self is a special object that refers to the INSTANCE of the class\n",
        "  def __init__(self, firstname, lastname, id):\n",
        "    self.name = f\"{firstname} {lastname}\"\n",
        "    self.id_ = id\n",
        "    self.grades = []\n",
        "    self.attendance = {}\n",
        "​\n",
        "  def check_in(self, datestr, is_here):\n",
        "    self.attendance[datestr] = is_here\n",
        "​\n",
        "  def add_grade(self, grade):\n",
        "    self.grades.append(grade)\n",
        "​\n",
        "  def average(self):\n",
        "    return sum(self.grades)/len(self.grades)\n",
        "​\n",
        "  def is_failing(self):\n",
        "    avg = self.average()\n",
        "    return avg < 65\n",
        "\n",
        "  def attendance_fail(self):\n",
        "    days =[]\n",
        "    if self.check_in is True:\n",
        "      days = days. append \n",
        "\n",
        "      return avg < 6\n",
        "​\n",
        "a = Student(\"Taq\", \"Karim\", 123)\n",
        "a.add_grade(56)\n",
        "a.add_grade(65)\n",
        "a.add_grade(100)\n",
        "​\n",
        "a.check_in(\"20200331\", False)\n",
        "a.check_in(\"20200326\", False) # if you miss 2 days or more, you are automatically failing\n",
        "​\n",
        "print(a.is_failing())"
      ],
      "execution_count": 0,
      "outputs": []
    },
    {
      "cell_type": "markdown",
      "metadata": {
        "id": "wN5WvJFIQav3",
        "colab_type": "text"
      },
      "source": [
        "## BASICS"
      ]
    },
    {
      "cell_type": "markdown",
      "metadata": {
        "id": "-pkisP_FQcHU",
        "colab_type": "text"
      },
      "source": [
        "### P1.PY"
      ]
    },
    {
      "cell_type": "code",
      "metadata": {
        "id": "IzneYCnaQVR5",
        "colab_type": "code",
        "colab": {}
      },
      "source": [
        "\"\"\"\n",
        "Person class\n",
        "\"\"\"\n",
        "\n",
        "# Create a Person class with the following properties\n",
        "# 1. name\n",
        "# 2. age\n",
        "# 3. social security number\n",
        "\n",
        "class Person:\n",
        "  def _init_(self, name, age, ssn):\n",
        "    it type(name) != str:\n",
        "    raise Exception ('Name must be a string')\n",
        "  self.name = name\n",
        "  self.age = age\n",
        "  self.ssn = ssn\n",
        "\n",
        "# try\n",
        "\n",
        "# raise Exception as e\n"
      ],
      "execution_count": 0,
      "outputs": []
    },
    {
      "cell_type": "markdown",
      "metadata": {
        "id": "ZrXt0IATQVR_",
        "colab_type": "text"
      },
      "source": [
        "\n",
        "\n",
        "### P2.PY\n",
        "\n",
        "\n"
      ]
    },
    {
      "cell_type": "code",
      "metadata": {
        "id": "HmfkVGjjQVSA",
        "colab_type": "code",
        "outputId": "b2f3fe38-6a32-4458-e371-571910c36e85",
        "colab": {
          "base_uri": "https://localhost:8080/",
          "height": 35
        }
      },
      "source": [
        "\"\"\"\n",
        "Cat class\n",
        "\"\"\"\n",
        "\n",
        "# Implement a class called \"Cat\" with the following properties:\n",
        "# name\n",
        "# breed\n",
        "# age\n",
        "\n",
        "# also, implement a method called \"speak\" that should print out \"purr\"\n",
        "\n",
        "class Cat:\n",
        "  greeting = 'purr'\n",
        "  acceptable_breeds = {\n",
        "      \"maine coon\",\n",
        "      \"bengal\",\n",
        "      \"siberian\"\n",
        "  }\n",
        "\n",
        "  def __init__(self, name, breed, age):\n",
        "    # if type(name) != str:\n",
        "    # raise Exception ('Name must be a string')\n",
        "    self.name = name\n",
        "    self.breed = breed\n",
        "    self.age = age\n",
        "    self.validate_name()\n",
        "    self.validate_breed()\n",
        "  \n",
        "  def validate_name (self):\n",
        "    if not isinstance (self.name, str):\n",
        "      raise Exception (\"Name must be string!\")\n",
        "  \n",
        "  def validate_breed (self):\n",
        "    if self.breed.lower() not in self.acceptable_breeds:\n",
        "      raise Exception (\"This is no valid breed\")\n",
        "\n",
        "  def speak (self):\n",
        "    return self.greeting\n",
        "    \n",
        "\n",
        "c = Cat ('meg', 'maine coon', 5)\n",
        "# print(c)\n",
        "c.speak()\n"
      ],
      "execution_count": 0,
      "outputs": [
        {
          "output_type": "execute_result",
          "data": {
            "text/plain": [
              "'purr'"
            ]
          },
          "metadata": {
            "tags": []
          },
          "execution_count": 34
        }
      ]
    },
    {
      "cell_type": "markdown",
      "metadata": {
        "id": "qvxZaPxNQVSD",
        "colab_type": "text"
      },
      "source": [
        "\n",
        "\n",
        "### P3.PY\n",
        "\n",
        "\n"
      ]
    },
    {
      "cell_type": "code",
      "metadata": {
        "id": "m6PY5wQdQVSE",
        "colab_type": "code",
        "outputId": "f0bb2102-5892-4448-85e2-2072f8d7c076",
        "colab": {
          "base_uri": "https://localhost:8080/",
          "height": 52
        }
      },
      "source": [
        "\"\"\"\n",
        "Phone Contacts\n",
        "\"\"\" \n",
        "\n",
        "# Create a class called \"Contact\" that will store the below items for each\n",
        "#  contact in your phone. The starred items should be required. Instantiate two Contact instance objects and access each of their attributes.\n",
        "    ### name*\n",
        "    ### mobile_num\n",
        "    ### work_num\n",
        "    ### email\n",
        "\n",
        "\n",
        "class Contact():\n",
        "  def __init__(self, name, mobile_num, work_num, email):\n",
        "    # if type(name) != str:\n",
        "    # raise Exception ('Name must be a string')\n",
        "    self.name = name\n",
        "    self.mobile_num = mobile_num\n",
        "    self.work_num = work_num\n",
        "    self.email = email\n",
        "  \n",
        "  def contact_info (self):\n",
        "    return (print (f'{self.name}, {self.mobile_num}, {self.work_num}, {self.email}'))\n",
        "\n",
        "c1 = Contact ('Meg', 232324, 52324, 'gmm@gmail.com')\n",
        "c2 = Contact ('Tom', 31313, 3131, 'bbw@gmail.com')\n",
        "\n",
        "c1.contact_info()\n",
        "c2.contact_info()\n"
      ],
      "execution_count": 0,
      "outputs": [
        {
          "output_type": "stream",
          "text": [
            "Meg, 232324, 52324, gmm@gmail.com\n",
            "Tom, 31313, 3131, bbw@gmail.com\n"
          ],
          "name": "stdout"
        }
      ]
    },
    {
      "cell_type": "markdown",
      "metadata": {
        "id": "PRUu-pYrQVSG",
        "colab_type": "text"
      },
      "source": [
        "\n",
        "\n",
        "### P4.PY\n",
        "\n",
        "\n"
      ]
    },
    {
      "cell_type": "code",
      "metadata": {
        "id": "UY7JmxmNQVSH",
        "colab_type": "code",
        "outputId": "44f38af8-982a-4a65-e14f-115df2ad90c0",
        "colab": {
          "base_uri": "https://localhost:8080/",
          "height": 52
        }
      },
      "source": [
        "\"\"\"\n",
        "Rectangle\n",
        "\"\"\"\n",
        "\n",
        "# Write a Python class named \"Rectangle\" constructed by values for length and width.\n",
        "#  It should include two methods to calculate the \"area\" and the \"perimeter\" of a rectangle. Instantiate a Rectangle and call both methods.\n",
        "\n",
        "\n",
        "\n",
        "class Rectangle():\n",
        "  def __init__(self, l: float, w: float):\n",
        "    # if type(name) != str:\n",
        "    # raise Exception ('Name must be a string')\n",
        "    self.length = l\n",
        "    self.width = w\n",
        "    self.area = l * w\n",
        "    self.perimeter = 2 * (l + w)\n",
        "  \n",
        "  def rectangle_info (self):\n",
        "    return (print (f'Length: {self.length}, Width: {self.width}, Area: {self.area}, Perimeter: {self.perimeter}'))\n",
        "\n",
        "c1 = Rectangle (2,5)\n",
        "c2 = Rectangle (1,2)\n",
        "\n",
        "c1.rectangle_info()\n",
        "c2.rectangle_info()"
      ],
      "execution_count": 0,
      "outputs": [
        {
          "output_type": "stream",
          "text": [
            "Length: 2, Width: 5, Area: 10, Perimeter: 14\n",
            "Length: 1, Width: 2, Area: 2, Perimeter: 6\n"
          ],
          "name": "stdout"
        }
      ]
    },
    {
      "cell_type": "markdown",
      "metadata": {
        "id": "z3HWRp76QVSK",
        "colab_type": "text"
      },
      "source": [
        "\n",
        "\n",
        "### P5.PY\n",
        "\n",
        "\n"
      ]
    },
    {
      "cell_type": "code",
      "metadata": {
        "id": "CAahOYImQVSL",
        "colab_type": "code",
        "outputId": "8977a242-3d9f-4ef6-ae6f-da9507ed57e3",
        "colab": {
          "base_uri": "https://localhost:8080/",
          "height": 52
        }
      },
      "source": [
        "\"\"\"\n",
        "Circle\n",
        "\"\"\"\n",
        "\n",
        "# Write a Python class named \"Circle\" constructed by a radius value and a class\n",
        "#  attribute for pi. You can use 3.14159 for the value of pi for simplicity. \n",
        "# It should include two methods to calculate the \"area\" and the \"perimeter\" of a circle. Instantiate a Circle and call both methods.\n",
        "\n",
        "class Circle():\n",
        "  pi = 3.14159\n",
        "  def __init__ (self, r):\n",
        "    self.r = r\n",
        "    self.area = self.pi * r * r\n",
        "    self.perimeter = 2 * self.pi * r\n",
        "\n",
        "  def circle_info(self):\n",
        "    return print (f'Area: {self.area}, Perimeter: {self.perimeter}')\n",
        "\n",
        "c1 = Circle (10)\n",
        "c2 = Circle (5)\n",
        "\n",
        "c1.circle_info()\n",
        "c2.circle_info()\n",
        "\n",
        "\n"
      ],
      "execution_count": 0,
      "outputs": [
        {
          "output_type": "stream",
          "text": [
            "Area: 314.159, Perimeter: 62.8318\n",
            "Area: 78.53975, Perimeter: 31.4159\n"
          ],
          "name": "stdout"
        }
      ]
    },
    {
      "cell_type": "code",
      "metadata": {
        "id": "R6aAKHY9-GB5",
        "colab_type": "code",
        "outputId": "f15cd964-e48b-4a29-8d2b-1b30b7104a03",
        "colab": {
          "base_uri": "https://localhost:8080/",
          "height": 35
        }
      },
      "source": [
        "class Circle():\n",
        "  pi = 3.14159\n",
        "  def __init__ (self, r):\n",
        "    self.r = r\n",
        "    self.area = self.pi * self.r * self.r\n",
        "    self.perimeter = 2 * self.pi * self.r\n",
        "\n",
        "  def circle_info(self):\n",
        "    return self.area\n",
        "\n",
        "c1 = Circle (5)\n",
        "c1.circle_info()\n"
      ],
      "execution_count": 0,
      "outputs": [
        {
          "output_type": "execute_result",
          "data": {
            "text/plain": [
              "78.53975"
            ]
          },
          "metadata": {
            "tags": []
          },
          "execution_count": 17
        }
      ]
    },
    {
      "cell_type": "markdown",
      "metadata": {
        "id": "UhQbvm0yQVSN",
        "colab_type": "text"
      },
      "source": [
        "\n",
        "\n",
        "### P6.PY\n",
        "\n",
        "\n"
      ]
    },
    {
      "cell_type": "code",
      "metadata": {
        "id": "L3ALeW8dQVSO",
        "colab_type": "code",
        "colab": {}
      },
      "source": [
        "\"\"\"\n",
        "RGB to HEX\n",
        "\"\"\"\n",
        "\n",
        "# Remember our function \"rgb_hex\" from the functions pset? That function took a \n",
        "# color in rgb format and returned it in hex format as well as vice versa. Wouldn't it be so much easier to do that with a class called Color?\n",
        "\n",
        "# Define a class called \"Color\" to store each color's rgb and hex values. Define a\n",
        "#  method called \"convert_codes()\" to retrieve one value given the other. Create at least one instance of Color and try the convert_codes() method.\n",
        "\n"
      ],
      "execution_count": 0,
      "outputs": []
    },
    {
      "cell_type": "code",
      "metadata": {
        "id": "iW5gifCmEIUK",
        "colab_type": "code",
        "colab": {}
      },
      "source": [
        ""
      ],
      "execution_count": 0,
      "outputs": []
    },
    {
      "cell_type": "markdown",
      "metadata": {
        "id": "y8I3eTeXQVSR",
        "colab_type": "text"
      },
      "source": [
        "## VEHICLES\n",
        "\n",
        "\n"
      ]
    },
    {
      "cell_type": "markdown",
      "metadata": {
        "id": "aALzjPkdQhSP",
        "colab_type": "text"
      },
      "source": [
        "### P1.PY"
      ]
    },
    {
      "cell_type": "code",
      "metadata": {
        "id": "ghZcPSz0QVSS",
        "colab_type": "code",
        "outputId": "cc7948de-2917-4c09-c6df-bcf86ef48ccf",
        "colab": {
          "base_uri": "https://localhost:8080/",
          "height": 35
        }
      },
      "source": [
        "\"\"\"\n",
        "Vehicles I \n",
        "\"\"\"\n",
        "\n",
        "# Create a \"Vehicle\" class with instance attributes for \"name\" and \"owner\". \n",
        "# Add a method called \"start_engine()\" that prints \"Vroom!\". \n",
        "# Instantiate a Vehicle called \"submarine\" and then access all its attributes and methods for practice.\n",
        "\n",
        "class Vehicle():\n",
        "  def __init__(self, name: str, owner: str):\n",
        "    # if type(name) != str:\n",
        "    # raise Exception ('Name must be a string')\n",
        "    self.name = name\n",
        "    self.owner = owner\n",
        "  \n",
        "  def start_engine (self):\n",
        "    return (print ('Vroom!'))\n",
        "\n",
        "c1 = Vehicle ('submarine', 'ted')\n",
        "\n",
        "c1.start_engine()\n",
        "\n"
      ],
      "execution_count": 0,
      "outputs": [
        {
          "output_type": "stream",
          "text": [
            "Vroom!\n"
          ],
          "name": "stdout"
        }
      ]
    },
    {
      "cell_type": "markdown",
      "metadata": {
        "id": "CxsKrKDYQVSV",
        "colab_type": "text"
      },
      "source": [
        "\n",
        "\n",
        "### P2.PY\n",
        "\n",
        "\n"
      ]
    },
    {
      "cell_type": "code",
      "metadata": {
        "id": "vxseoNdVQVSW",
        "colab_type": "code",
        "outputId": "8e41799d-16ed-479b-e32c-939666a257da",
        "colab": {
          "base_uri": "https://localhost:8080/",
          "height": 52
        }
      },
      "source": [
        "\"\"\"\n",
        "Vehicles II\n",
        "\"\"\"\n",
        "\n",
        "# Define 3 unique child classes for Vehicle - Car, Plane, and Boat. Each of these\n",
        "#  should have its own class attributes for \"motion\" and \"terrain\". (For Car, these would be something like \"drive\" and \"land\".)\n",
        "\n",
        "\n",
        "class Vehicle():\n",
        "  # v_classes = ['car', 'plain', 'boat']\n",
        "  # terrain = {\n",
        "  #     car: ['drive', 'stop'],\n",
        "  #     plain: ['fly', 'land'],\n",
        "  #     boat: ['swim', 'sink']\n",
        "  # }\n",
        "  # terrain = {\n",
        "  #     car: ['fast', 'slow'],\n",
        "  #     plain: ['high', 'low'],\n",
        "  #     boat: ['shallow', 'deep']\n",
        "  # }\n",
        "\n",
        "  def __init__(self, vehicle_type):\n",
        "    self.vehicle = vehicle_type\n",
        "    # if self.vehicle != car or self.vehicle != plain or self.vehicle != 'boat':\n",
        "    #   raise Exception ('Vehicle must be car plain or boat')\n",
        "  def motion (self):\n",
        "    if self.vehicle == 'car':\n",
        "      motion = 'drive'\n",
        "    if self.vehicle == 'plain':\n",
        "      motion = 'fly'\n",
        "    if self.vehicle == 'boat':\n",
        "      motion = 'swim'\n",
        "    return print(f'{self.vehicle} can {motion}')\n",
        "\n",
        "  def terrain (self):\n",
        "    if self.vehicle == 'car':\n",
        "      terrain = 'land'\n",
        "    if self.vehicle == 'plain':\n",
        "      terrain = 'sky'\n",
        "    if self.vehicle == 'boat':\n",
        "      terrain = 'water'\n",
        "    return print(f'{self.vehicle} operate in/on {terrain}')\n",
        "\n",
        "c1 = Vehicle ('plain')\n",
        "\n",
        "c1.motion()\n",
        "c1.terrain()"
      ],
      "execution_count": 0,
      "outputs": [
        {
          "output_type": "stream",
          "text": [
            "plain can fly\n",
            "plain operate in/on sky\n"
          ],
          "name": "stdout"
        }
      ]
    },
    {
      "cell_type": "markdown",
      "metadata": {
        "id": "sYiJRi07QVSY",
        "colab_type": "text"
      },
      "source": [
        "\n",
        "\n",
        "### P3.PY\n",
        "\n",
        "\n"
      ]
    },
    {
      "cell_type": "code",
      "metadata": {
        "id": "VdMZiobfQVSZ",
        "colab_type": "code",
        "outputId": "26d7b06b-aabf-4ba6-ca24-7ff619c3fbef",
        "colab": {
          "base_uri": "https://localhost:8080/",
          "height": 70
        }
      },
      "source": [
        "\"\"\"\n",
        "Vehicles III\n",
        "\"\"\"\n",
        "\n",
        "# For Car, define a method called \"honk_horn()\" that prints \"HONK!\"\n",
        "# For Plane, define a method called \"take_off()\" that prints \"Fasten your seatbelts!\"\n",
        "# For Boat, define a method called \"drop_achor()\" that prints \"Anchors away!\"\n",
        "\n",
        "class Vehicle():\n",
        "  \n",
        "  def __init__(self, vehicle_type):\n",
        "    self.vehicle = vehicle_type\n",
        "    # if self.vehicle != car or self.vehicle != plain or self.vehicle != 'boat':\n",
        "    #   raise Exception ('Vehicle must be car plain or boat')\n",
        "  def motion (self):\n",
        "    if self.vehicle == 'car':\n",
        "      motion = 'drive'\n",
        "    if self.vehicle == 'plain':\n",
        "      motion = 'fly'\n",
        "    if self.vehicle == 'boat':\n",
        "      motion = 'swim'\n",
        "    return print(f'{self.vehicle} can {motion}')\n",
        "\n",
        "  def terrain (self):\n",
        "    if self.vehicle == 'car':\n",
        "      terrain = 'land'\n",
        "    if self.vehicle == 'plain':\n",
        "      terrain = 'sky'\n",
        "    if self.vehicle == 'boat':\n",
        "      terrain = 'water'\n",
        "    return print(f'{self.vehicle} operate in/on {terrain}')\n",
        "\n",
        "  def hon_horn (self):\n",
        "    if self.vehicle == 'car':\n",
        "      print ('Honk!')\n",
        "  def take_off (self):\n",
        "    if self.vehicle == 'plain':\n",
        "      print ('Fasten your seatbelt')\n",
        "  def drop_anchot (self):\n",
        "    if self.vehicle == 'car':\n",
        "      print ('Anchors away')\n",
        "\n",
        "\n",
        "c1 = Vehicle ('plain')\n",
        "\n",
        "c1.motion()\n",
        "c1.terrain()\n",
        "c1.take_off()"
      ],
      "execution_count": 0,
      "outputs": [
        {
          "output_type": "stream",
          "text": [
            "plain can fly\n",
            "plain operate in/on sky\n",
            "Fasten your seatbelt\n"
          ],
          "name": "stdout"
        }
      ]
    },
    {
      "cell_type": "markdown",
      "metadata": {
        "id": "vQBQiZeaQVSb",
        "colab_type": "text"
      },
      "source": [
        "\n",
        "\n",
        "### P4.PY\n",
        "\n",
        "\n"
      ]
    },
    {
      "cell_type": "code",
      "metadata": {
        "id": "LBmdMSW8QVSb",
        "colab_type": "code",
        "outputId": "785413bc-8cde-4ebf-fa10-7d0412ee0526",
        "colab": {
          "base_uri": "https://localhost:8080/",
          "height": 363
        }
      },
      "source": [
        "\"\"\"\n",
        "Vehicles IV\n",
        "\"\"\"\n",
        "\n",
        "# Create an instance of each child class. Access all their attributes and methods,\n",
        "#  including those inherited from their parent class Vehicle.\n",
        "\n",
        "# TAKEAWAY! - Vehicle is the baseline class for other more specific types of vehicles.\n",
        "#  Typically, you wouldn't instantiate a Vehicle because the child classes are more \n",
        "# useful for storing information about vehicles. The Vehicle class serves to create \n",
        "# a relationship between its children. However, \"submarine\" might be created as a \n",
        "# Vehicle because it's so rare that you might not need a full Submarine class!\n",
        "\n",
        "class Vehicle():\n",
        "  \n",
        "  def __init__(self, vehicle_type):\n",
        "    self.vehicle = vehicle_type\n",
        "    # if self.vehicle != car or self.vehicle != plain or self.vehicle != 'boat':\n",
        "    #   raise Exception ('Vehicle must be car plain or boat')\n",
        "  def motion (self):\n",
        "    if self.vehicle == 'car':\n",
        "      motion = 'drive'\n",
        "    if self.vehicle == 'plain':\n",
        "      motion = 'fly'\n",
        "    if self.vehicle == 'boat':\n",
        "      motion = 'swim'\n",
        "    return print(f'{self.vehicle} can {motion}')\n",
        "\n",
        "  def terrain (self):\n",
        "    if self.vehicle == 'car':\n",
        "      terrain = 'land'\n",
        "    if self.vehicle == 'plain':\n",
        "      terrain = 'sky'\n",
        "    if self.vehicle == 'boat':\n",
        "      terrain = 'water'\n",
        "    return print(f'{self.vehicle} operate in/on {terrain}')\n",
        "\n",
        "  def hon_horn (self):\n",
        "    if self.vehicle == 'car':\n",
        "      print ('Honk!')\n",
        "  def take_off (self):\n",
        "    if self.vehicle == 'plain':\n",
        "      print ('Fasten your seatbelt')\n",
        "  def drop_anchot (self):\n",
        "    if self.vehicle == 'car':\n",
        "      print ('Anchors away')\n",
        "\n",
        "\n",
        "class Car(Vehicle):\n",
        "  def __init__(self, name):\n",
        "    self.name = name\n",
        "    super().__init__('car', 'bmw')\n",
        "\n",
        "  def car_start(self):\n",
        "    super().car_start()\n",
        "    print('Start engine')\n",
        "\n",
        "c1 = Car ('car')\n",
        "\n",
        "c1.motion ()\n",
        "c1.terrain()\n",
        "c1.take_off()\n",
        "  "
      ],
      "execution_count": 0,
      "outputs": [
        {
          "output_type": "error",
          "ename": "TypeError",
          "evalue": "ignored",
          "traceback": [
            "\u001b[0;31m---------------------------------------------------------------------------\u001b[0m",
            "\u001b[0;31mTypeError\u001b[0m                                 Traceback (most recent call last)",
            "\u001b[0;32m<ipython-input-45-1b1c6041b2fc>\u001b[0m in \u001b[0;36m<module>\u001b[0;34m()\u001b[0m\n\u001b[1;32m     56\u001b[0m     \u001b[0mprint\u001b[0m\u001b[0;34m(\u001b[0m\u001b[0;34m'Start engine'\u001b[0m\u001b[0;34m)\u001b[0m\u001b[0;34m\u001b[0m\u001b[0;34m\u001b[0m\u001b[0m\n\u001b[1;32m     57\u001b[0m \u001b[0;34m\u001b[0m\u001b[0m\n\u001b[0;32m---> 58\u001b[0;31m \u001b[0mc1\u001b[0m \u001b[0;34m=\u001b[0m \u001b[0mCar\u001b[0m \u001b[0;34m(\u001b[0m\u001b[0;34m'car'\u001b[0m\u001b[0;34m)\u001b[0m\u001b[0;34m\u001b[0m\u001b[0;34m\u001b[0m\u001b[0m\n\u001b[0m\u001b[1;32m     59\u001b[0m \u001b[0;34m\u001b[0m\u001b[0m\n\u001b[1;32m     60\u001b[0m \u001b[0mc1\u001b[0m\u001b[0;34m.\u001b[0m\u001b[0mmotion\u001b[0m \u001b[0;34m(\u001b[0m\u001b[0;34m)\u001b[0m\u001b[0;34m\u001b[0m\u001b[0;34m\u001b[0m\u001b[0m\n",
            "\u001b[0;32m<ipython-input-45-1b1c6041b2fc>\u001b[0m in \u001b[0;36m__init__\u001b[0;34m(self, name)\u001b[0m\n\u001b[1;32m     50\u001b[0m   \u001b[0;32mdef\u001b[0m \u001b[0m__init__\u001b[0m\u001b[0;34m(\u001b[0m\u001b[0mself\u001b[0m\u001b[0;34m,\u001b[0m \u001b[0mname\u001b[0m\u001b[0;34m)\u001b[0m\u001b[0;34m:\u001b[0m\u001b[0;34m\u001b[0m\u001b[0;34m\u001b[0m\u001b[0m\n\u001b[1;32m     51\u001b[0m     \u001b[0mself\u001b[0m\u001b[0;34m.\u001b[0m\u001b[0mname\u001b[0m \u001b[0;34m=\u001b[0m \u001b[0mname\u001b[0m\u001b[0;34m\u001b[0m\u001b[0;34m\u001b[0m\u001b[0m\n\u001b[0;32m---> 52\u001b[0;31m     \u001b[0msuper\u001b[0m\u001b[0;34m(\u001b[0m\u001b[0;34m)\u001b[0m\u001b[0;34m.\u001b[0m\u001b[0m__init__\u001b[0m\u001b[0;34m(\u001b[0m\u001b[0;34m'car'\u001b[0m\u001b[0;34m,\u001b[0m \u001b[0;34m'bmw'\u001b[0m\u001b[0;34m)\u001b[0m\u001b[0;34m\u001b[0m\u001b[0;34m\u001b[0m\u001b[0m\n\u001b[0m\u001b[1;32m     53\u001b[0m \u001b[0;34m\u001b[0m\u001b[0m\n\u001b[1;32m     54\u001b[0m   \u001b[0;32mdef\u001b[0m \u001b[0mcar_start\u001b[0m\u001b[0;34m(\u001b[0m\u001b[0mself\u001b[0m\u001b[0;34m)\u001b[0m\u001b[0;34m:\u001b[0m\u001b[0;34m\u001b[0m\u001b[0;34m\u001b[0m\u001b[0m\n",
            "\u001b[0;31mTypeError\u001b[0m: __init__() takes 2 positional arguments but 3 were given"
          ]
        }
      ]
    },
    {
      "cell_type": "code",
      "metadata": {
        "id": "nv8Zk988iWj3",
        "colab_type": "code",
        "outputId": "fc9908f9-2150-4a0f-d39a-7cb33cf8e9f6",
        "colab": {
          "base_uri": "https://localhost:8080/",
          "height": 345
        }
      },
      "source": [
        "class Animal: # A.\n",
        "  kingdom = 'Animalia' # D.\n",
        "  def __init__(self, species = '', diet= ''): # B. \n",
        "    self.species = species # C.\n",
        "    self.diet = diet # C.\n",
        "\n",
        "class Tiger(Animal):\n",
        "  def __init__(self, name):\n",
        "    self.name = name\n",
        "    super().__init__('tiger', 'carnivore')\n",
        "\n",
        "  def feed_me(self):\n",
        "    super().feed_me()\n",
        "    print('ME TIGER')\n",
        "\n",
        "t1 = Tiger('tiger')\n",
        "# print(t1.my_kingdom())\n",
        "\n",
        "t1.feed_me()\n",
        "print(t1.name)"
      ],
      "execution_count": 0,
      "outputs": [
        {
          "output_type": "error",
          "ename": "AttributeError",
          "evalue": "ignored",
          "traceback": [
            "\u001b[0;31m---------------------------------------------------------------------------\u001b[0m",
            "\u001b[0;31mAttributeError\u001b[0m                            Traceback (most recent call last)",
            "\u001b[0;32m<ipython-input-51-864dab13333e>\u001b[0m in \u001b[0;36m<module>\u001b[0;34m()\u001b[0m\n\u001b[1;32m     17\u001b[0m \u001b[0;31m# print(t1.my_kingdom())\u001b[0m\u001b[0;34m\u001b[0m\u001b[0;34m\u001b[0m\u001b[0;34m\u001b[0m\u001b[0m\n\u001b[1;32m     18\u001b[0m \u001b[0;34m\u001b[0m\u001b[0m\n\u001b[0;32m---> 19\u001b[0;31m \u001b[0mt1\u001b[0m\u001b[0;34m.\u001b[0m\u001b[0mfeed_me\u001b[0m\u001b[0;34m(\u001b[0m\u001b[0;34m)\u001b[0m\u001b[0;34m\u001b[0m\u001b[0;34m\u001b[0m\u001b[0m\n\u001b[0m\u001b[1;32m     20\u001b[0m \u001b[0mprint\u001b[0m\u001b[0;34m(\u001b[0m\u001b[0mt1\u001b[0m\u001b[0;34m.\u001b[0m\u001b[0mname\u001b[0m\u001b[0;34m)\u001b[0m\u001b[0;34m\u001b[0m\u001b[0;34m\u001b[0m\u001b[0m\n",
            "\u001b[0;32m<ipython-input-51-864dab13333e>\u001b[0m in \u001b[0;36mfeed_me\u001b[0;34m(self)\u001b[0m\n\u001b[1;32m     11\u001b[0m \u001b[0;34m\u001b[0m\u001b[0m\n\u001b[1;32m     12\u001b[0m   \u001b[0;32mdef\u001b[0m \u001b[0mfeed_me\u001b[0m\u001b[0;34m(\u001b[0m\u001b[0mself\u001b[0m\u001b[0;34m)\u001b[0m\u001b[0;34m:\u001b[0m\u001b[0;34m\u001b[0m\u001b[0;34m\u001b[0m\u001b[0m\n\u001b[0;32m---> 13\u001b[0;31m     \u001b[0msuper\u001b[0m\u001b[0;34m(\u001b[0m\u001b[0;34m)\u001b[0m\u001b[0;34m.\u001b[0m\u001b[0mfeed_me\u001b[0m\u001b[0;34m(\u001b[0m\u001b[0mself\u001b[0m\u001b[0;34m)\u001b[0m\u001b[0;34m\u001b[0m\u001b[0;34m\u001b[0m\u001b[0m\n\u001b[0m\u001b[1;32m     14\u001b[0m     \u001b[0mprint\u001b[0m\u001b[0;34m(\u001b[0m\u001b[0;34m'ME TIGER'\u001b[0m\u001b[0;34m)\u001b[0m\u001b[0;34m\u001b[0m\u001b[0;34m\u001b[0m\u001b[0m\n\u001b[1;32m     15\u001b[0m \u001b[0;34m\u001b[0m\u001b[0m\n",
            "\u001b[0;31mAttributeError\u001b[0m: 'super' object has no attribute 'feed_me'"
          ]
        }
      ]
    },
    {
      "cell_type": "markdown",
      "metadata": {
        "id": "n5WuMcd2QVSf",
        "colab_type": "text"
      },
      "source": [
        "\n",
        "\n",
        "### P5.PY\n",
        "\n",
        "\n"
      ]
    },
    {
      "cell_type": "code",
      "metadata": {
        "id": "oLi5DYoRQVSg",
        "colab_type": "code",
        "colab": {}
      },
      "source": [
        "\"\"\"\n",
        "Vehicles V\n",
        "\"\"\"\n",
        "\n",
        "# Let's expand the Car class to be more comprehensive. Include attributes for...\n",
        "## brand name\n",
        "## plates\n",
        "## owner\n",
        "## fuel (e.g. gasoline, battery, etc.)\n",
        "## fuel_level (a numerical amount that defaults to 50, and max speed in MPH that defaults to None. "
      ],
      "execution_count": 0,
      "outputs": []
    },
    {
      "cell_type": "markdown",
      "metadata": {
        "id": "A6fExHtLQVSi",
        "colab_type": "text"
      },
      "source": [
        "\n",
        "\n",
        "### P6.PY\n",
        "\n",
        "\n"
      ]
    },
    {
      "cell_type": "code",
      "metadata": {
        "id": "MpL9MvJJQVSj",
        "colab_type": "code",
        "colab": {}
      },
      "source": [
        "\"\"\"\n",
        "Vehicles VI\n",
        "\"\"\"\n",
        "\n",
        "# Next, define new method called \"check_fuel_level()\" for your newly expanded Car class. If the fuel_level attribute is < 15, the method should reset fuel_level to 50 and print out how many units it refueled the car, e.g. 'Refueled 38 units.' Otherwise, it should simply print 'No need to refuel right now.'\n",
        "\n",
        "# Create at least TWO instances of Car, one of which has a fuel level below 15. Access the new attributes and call the check_fuel_level() method for each instance.\n"
      ],
      "execution_count": 0,
      "outputs": []
    },
    {
      "cell_type": "markdown",
      "metadata": {
        "id": "4T8OMv5cQVSl",
        "colab_type": "text"
      },
      "source": [
        "## WEDDING_GUESTS\n",
        "\n",
        "\n"
      ]
    },
    {
      "cell_type": "markdown",
      "metadata": {
        "id": "ZkHoC8FJQksO",
        "colab_type": "text"
      },
      "source": [
        "### P1.PY"
      ]
    },
    {
      "cell_type": "code",
      "metadata": {
        "id": "QEaByQNqQVSm",
        "colab_type": "code",
        "colab": {}
      },
      "source": [
        "\"\"\"\n",
        "Weddings I - Guest List\n",
        "\"\"\"\n",
        "\n",
        "# Imagine for this problem set that you are planning a wedding. \n",
        "\n",
        "\n",
        "# A) Define a class called \"Guest\" to help you manage all the information about each invitee. This should initially include instance attributes for the guests's name, phone, and an optional \"invite_sent\" that defaults to False. Guest should also include an instance method called \"send_invite()\", which changes the value of invite_sent to True once you send an invitation to that guest.\n",
        "\n",
        "\n",
        "\n",
        "# B) Next, define a child class called \"Bridesmaid\", which includes the same initial attributes and inherits Guest's instance method.\n",
        "\n",
        "\n",
        "\n",
        "# C) Finally, create at least one instance of each class and do the following:\n",
        "### Call send_invite() on each instance.\n",
        "### Check whether Bridesmaid is a child of Guest and vice versa."
      ],
      "execution_count": 0,
      "outputs": []
    },
    {
      "cell_type": "markdown",
      "metadata": {
        "id": "UBc-ylx5QVSo",
        "colab_type": "text"
      },
      "source": [
        "\n",
        "\n",
        "### P2.PY\n",
        "\n",
        "\n"
      ]
    },
    {
      "cell_type": "code",
      "metadata": {
        "id": "de41Yy_RQVSo",
        "colab_type": "code",
        "colab": {}
      },
      "source": [
        "\"\"\"\n",
        "Weddings II - Record Bridesmaid RSVPs\n",
        "\"\"\"\n",
        "\n",
        "# Create a method in Guest to record a guests's rsvp to your invitation. It should record whether they have any dietary restrictions (e.g. vegetarian, kosher, halal, etc.) and whether they're bringing a plus one. If they are bringing a plus one, it should record the name of the plus one and his/her dietary restrictions if any. These values should be stored in instance attributes.\n",
        "\n",
        "# Try out this method on at least one instance of Guest and at least one instance of Bridesmaid."
      ],
      "execution_count": 0,
      "outputs": []
    },
    {
      "cell_type": "markdown",
      "metadata": {
        "id": "ae81Cvg3QVSr",
        "colab_type": "text"
      },
      "source": [
        "\n",
        "\n",
        "### P3.PY\n",
        "\n",
        "\n"
      ]
    },
    {
      "cell_type": "code",
      "metadata": {
        "id": "uL2m2WDNQVSs",
        "colab_type": "code",
        "colab": {}
      },
      "source": [
        "\"\"\"\n",
        "Weddings III - Record Shower & Bachelorette RSVP\n",
        "\"\"\"\n",
        "\n",
        "# Create two methods in Bridesmaid to record a the bridesmaid's rsvp to the bridal shower and the bachelorette party. You can call them \"record_shower_rsvp()\" and \"record_bachelorette_rsvp()\". They will work just like the general \"record_rsvp()\" except there will be no plus ones or diet questions. Their rsvp answers should be stored in instance attributes with the same name (i.e. shower_rsvp & bachelorette_rsvp)."
      ],
      "execution_count": 0,
      "outputs": []
    },
    {
      "cell_type": "markdown",
      "metadata": {
        "id": "L9e1xwP0QVSu",
        "colab_type": "text"
      },
      "source": [
        "\n",
        "\n",
        "## DOGS\n",
        "\n",
        "\n"
      ]
    },
    {
      "cell_type": "markdown",
      "metadata": {
        "id": "fqAxs72cQnUC",
        "colab_type": "text"
      },
      "source": [
        "### P1.PY"
      ]
    },
    {
      "cell_type": "code",
      "metadata": {
        "id": "lCOGctWEQVSw",
        "colab_type": "code",
        "colab": {}
      },
      "source": [
        "\"\"\"\n",
        "Dogs I\n",
        "\"\"\"\n",
        "\n",
        "# Create a class called \"Dog\". It should include: \n",
        "## A class attribute \"domesticated\" w. value True\n",
        "## An instance method called \"bark()\" that prints \"Woof!\""
      ],
      "execution_count": 0,
      "outputs": []
    },
    {
      "cell_type": "markdown",
      "metadata": {
        "id": "UO54DHkgQVS2",
        "colab_type": "text"
      },
      "source": [
        "\n",
        "\n",
        "### P2.PY\n",
        "\n",
        "\n"
      ]
    },
    {
      "cell_type": "code",
      "metadata": {
        "id": "njrtxJF-QVS5",
        "colab_type": "code",
        "colab": {}
      },
      "source": [
        "\"\"\"\n",
        "Dogs II\n",
        "\"\"\" \n",
        "\n",
        "# Create child class for 3 dog breeds - Collie, Siberian Husky, and Pekingese. Each should have:\n",
        "## 2 class attributes for \"breed\" and \"temperament\". The latter should be a list.\n",
        "## 3 instance attributes for \"name\", \"age\", and \"gender\".\n",
        "\n"
      ],
      "execution_count": 0,
      "outputs": []
    },
    {
      "cell_type": "markdown",
      "metadata": {
        "id": "GRDjTLXgQVS7",
        "colab_type": "text"
      },
      "source": [
        "\n",
        "\n",
        "### P3.PY\n",
        "\n",
        "\n"
      ]
    },
    {
      "cell_type": "code",
      "metadata": {
        "id": "w5X6VYA9QVS_",
        "colab_type": "code",
        "colab": {}
      },
      "source": [
        "\"\"\"\n",
        "Dogs III\n",
        "\"\"\" \n",
        "\n",
        "# A) Add an instance method to Collie called \"herd_the_kids()\" that prints \"Here are your children!\"\n",
        "\n",
        "# B) Add an instance method called \"bark()\" to Pekingese. This should override the parent method \"bark()\" such that when you call bark() on an instance of Pekingese, it prints \"Yap!\" instead.\n",
        "\n",
        "# C) Instantiate one of each breed. Access the attributes, methods, and parent methods of each one. BONUS: Aside from herd_the_kids(), you should be able to do this in a loop.\n",
        "\n",
        "\n"
      ],
      "execution_count": 0,
      "outputs": []
    },
    {
      "cell_type": "markdown",
      "metadata": {
        "id": "m7YmFSBWQVTB",
        "colab_type": "text"
      },
      "source": [
        "\n",
        "\n",
        "### P4.PY\n",
        "\n",
        "\n"
      ]
    },
    {
      "cell_type": "code",
      "metadata": {
        "id": "1d7XsSD8QVTB",
        "colab_type": "code",
        "colab": {}
      },
      "source": [
        "\"\"\"\n",
        "Dogs IV - Tricks (CHALLENGE!)\n",
        "\"\"\"\n",
        "\n",
        "# Many dogs know how to do common tricks or follow common commands. You could create methods for each trick/command in the Dog parent class, but the problem is that not all dogs know all tricks/commands. \n",
        "\n",
        "# However, it would be inefficient to define a custom set of instance methods for tricks/commands every time you instantiate a unique Collie (or SiberianHuskey or Pekingese etc.).\n",
        "\n",
        "# Find an efficient way to specify which tricks each unique dog knows and to call them. You can use \"roll_over\", \"fetch\", \"shake_hands\", and \"spin\". Secondly, find a way to teach a dog new trick from this set.\n",
        "\n",
        "\n"
      ],
      "execution_count": 0,
      "outputs": []
    },
    {
      "cell_type": "markdown",
      "metadata": {
        "id": "JjH9Q0XiQVTD",
        "colab_type": "text"
      },
      "source": [
        "\n"
      ]
    }
  ]
}