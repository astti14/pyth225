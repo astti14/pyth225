{
  "nbformat": 4,
  "nbformat_minor": 0,
  "metadata": {
    "colab": {
      "name": "HW AG conditionals_psets.ipynb",
      "provenance": [],
      "collapsed_sections": [],
      "include_colab_link": true
    },
    "kernelspec": {
      "name": "python3",
      "display_name": "Python 3"
    }
  },
  "cells": [
    {
      "cell_type": "markdown",
      "metadata": {
        "id": "view-in-github",
        "colab_type": "text"
      },
      "source": [
        "<a href=\"https://colab.research.google.com/github/astti14/pyth225/blob/master/HW_AG_conditionals_psets.ipynb\" target=\"_parent\"><img src=\"https://colab.research.google.com/assets/colab-badge.svg\" alt=\"Open In Colab\"/></a>"
      ]
    },
    {
      "cell_type": "markdown",
      "metadata": {
        "id": "FiL9pv11VtnR",
        "colab_type": "text"
      },
      "source": [
        "#  CONDITIONALS\n",
        "\n",
        "\n"
      ]
    },
    {
      "cell_type": "markdown",
      "metadata": {
        "id": "gijpYMCLV00L",
        "colab_type": "text"
      },
      "source": [
        "## WEATHER"
      ]
    },
    {
      "cell_type": "markdown",
      "metadata": {
        "id": "KL7ytXn4V2WB",
        "colab_type": "text"
      },
      "source": [
        "### P1.PY"
      ]
    },
    {
      "cell_type": "code",
      "metadata": {
        "id": "e32ChHBAVtnU",
        "colab_type": "code",
        "outputId": "54eb7aec-69eb-4a9e-e686-f0369426e458",
        "colab": {
          "base_uri": "https://localhost:8080/",
          "height": 35
        }
      },
      "source": [
        "\"\"\"\n",
        "Weather I - Do you need boots?\n",
        "\"\"\"\n",
        "\n",
        "# Use the values of the vars defined below to ouput the correct contextual answer\n",
        "#  to the questions below. (Note: The variables themselves ARE the questions.)\n",
        "\n",
        "# Example:\n",
        "## am_i_hungry = False\n",
        "## am_i_tired = True\n",
        "## do_i_need_to_stay_awake = False\n",
        "\n",
        "## should_i_drink_coffee_now = am_i_tired and do_i_need_to_stay_awake\n",
        "\n",
        "## ^^ This ^^ evaluates to False. If you're tired and don't need to stay awake,\n",
        "#  you don't need to drink coffee!\n",
        "\n",
        "\n",
        "is_it_snowing = False\n",
        "is_it_raining = False\n",
        "\n",
        "\n",
        "if is_it_snowing == True and is_it_raining == False:\n",
        "  print (\"You need show boots\")\n",
        "if is_it_raining == True and is_it_snowing == False:\n",
        "  print (\"You need rain boots\")\n",
        "if is_it_snowing == True and is_it_raining == True:\n",
        "  print (\"You need rain and snow boots\")\n",
        "elif is_it_snowing == False and is_it_raining == False:\n",
        "  print (\"You need regular shoes\")\n"
      ],
      "execution_count": 0,
      "outputs": [
        {
          "output_type": "stream",
          "text": [
            "You need regular shoes\n"
          ],
          "name": "stdout"
        }
      ]
    },
    {
      "cell_type": "markdown",
      "metadata": {
        "id": "t9cxGL-8VtnX",
        "colab_type": "text"
      },
      "source": [
        "\n",
        "\n",
        "### P2.PY\n",
        "\n",
        "\n"
      ]
    },
    {
      "cell_type": "code",
      "metadata": {
        "id": "y80DTzliVtnY",
        "colab_type": "code",
        "outputId": "12934d4b-f0bc-45ce-d31a-cd9e641a3762",
        "colab": {
          "base_uri": "https://localhost:8080/",
          "height": 35
        }
      },
      "source": [
        "\"\"\"\n",
        "Weather II - Precipitation\n",
        "\"\"\"\n",
        "\n",
        "# Repeat the same process as p1, using this new set of variables.\n",
        "\n",
        "\n",
        "sunny = True\n",
        "raining = True\n",
        "snowing = True\n",
        "\n",
        "if sunny == True and raining == True and snowing == False:\n",
        "  print ('Rainbow')\n",
        "if sunny == True and raining == False and snowing == False:\n",
        "  print ('sunny')\n",
        "if raining == True and sunny == False and snowing == False:\n",
        "  print ('raining')\n",
        "if raining == True and snowing == True and snowing == False:\n",
        "  print ('Precipitation')\n",
        "if sunny == True and snowing == True and raining == False:\n",
        "  print (\"Sunny with snow\")\n",
        "if sunny == False and snowing == False and raining == False:\n",
        "  print ('Not possible condition')\n",
        "if sunny == True and snowing == True and raining == True:\n",
        "  print ('Not possible condition')\n",
        "\n",
        "\n",
        "# is_it_sunny = None\n",
        "# is_there_precipitation = None\n",
        "# is_it_sleeting = None\n",
        "# is_there_rainbow = None"
      ],
      "execution_count": 0,
      "outputs": [
        {
          "output_type": "stream",
          "text": [
            "Not possible condition\n"
          ],
          "name": "stdout"
        }
      ]
    },
    {
      "cell_type": "markdown",
      "metadata": {
        "id": "777sx1WCVtno",
        "colab_type": "text"
      },
      "source": [
        "\n",
        "\n",
        "### P3.PY\n",
        "\n",
        "\n"
      ]
    },
    {
      "cell_type": "code",
      "metadata": {
        "id": "9dNGqX2wVtnp",
        "colab_type": "code",
        "outputId": "c7825056-6262-4f6b-b5bf-e12644c3e081",
        "colab": {
          "base_uri": "https://localhost:8080/",
          "height": 71
        }
      },
      "source": [
        "\"\"\"\n",
        "Weather III - Describe Conditions\n",
        "\"\"\"\n",
        "\n",
        "# Repeat the same process as p1, using this new set of variables.\n",
        "\n",
        "is_it_windy = False\n",
        "is_it_warm = True\n",
        "is_it_humid = False\n",
        "is_it_icy = False\n",
        "is_it_foggy = False\n",
        "is_it_cold = True\n",
        "is_it_overcast = False\n",
        "\n",
        "if is_it_warm == True and is_it_humid == True:\n",
        "  is_it_summer_weather = True\n",
        "else:\n",
        "  is_it_summer_weather = False\n",
        "  print(f'is_it_summer_weather: {is_it_summer_weather}')\n",
        "if is_it_cold == False:\n",
        "  do_i_need_coat = False\n",
        "  print (f'do_i_need_coat: {do_i_need_coat}')\n",
        "else:\n",
        "  do_i_need_coat = True\n",
        "  print (f'do_i_need_coat: {do_i_need_coat}')\n",
        "if is_it_icy == False and is_it_overcast == True:\n",
        "  is_it_muggy = True\n",
        "  print (f'muggy? {is_it_muggy}')\n",
        "else:\n",
        "  is_it_muggy = False\n",
        "  print (f'muggy? {is_it_muggy}')\n",
        "if is_it_foggy == True and is_it_humid == True:\n",
        "  is_it_raining = True\n",
        "  print (f'raining? {is_rain_coming}')\n",
        "else:\n",
        "  is_it_raining = False\n",
        "  print (f'raining? {is_rain_coming}')\n",
        "if is_it_windy == True and is_it_cold == True:\n",
        "  print (is_rain_coming == True)\n",
        "  else:\n",
        "    print (is_rain_coming == False)\n",
        "\n",
        "\n"
      ],
      "execution_count": 0,
      "outputs": [
        {
          "output_type": "stream",
          "text": [
            "is_it_summer_weather: False\n",
            "do_i_need_coat: True\n",
            "muggy? False\n"
          ],
          "name": "stdout"
        }
      ]
    },
    {
      "cell_type": "markdown",
      "metadata": {
        "id": "c70y61m1Vtn3",
        "colab_type": "text"
      },
      "source": [
        "## LOGIC\n",
        "\n",
        "\n"
      ]
    },
    {
      "cell_type": "markdown",
      "metadata": {
        "id": "6IGtJU8oV5a8",
        "colab_type": "text"
      },
      "source": [
        "### P1.PY"
      ]
    },
    {
      "cell_type": "code",
      "metadata": {
        "id": "8dx3WRHBVtn4",
        "colab_type": "code",
        "colab": {}
      },
      "source": [
        "\"\"\"\n",
        "Calculate Grade\n",
        "\"\"\"\n",
        "\n",
        "# grade = 15  \n",
        "# expect this to be a number\n",
        "grade_input = 85\n",
        "grade = int (grade_input)\n",
        "\n",
        "\n",
        "# if grade <= 54 and grade > 100 or isinstance (grade,str) or isinstance (grade, bool):\n",
        "  # print ('Not a valid number')\n",
        "# else:\n",
        "  # my_condition = grade < 0\n",
        "  # if my_condition:\n",
        "    # print (\"grade must have been greater than 0\")\n",
        "  # else:\n",
        "      # print (\"this code will run\")\n",
        "if grade >= 90 and grade < 100:\n",
        "  grade = 'A'\n",
        "elif grade >= 80 and grade < 90:\n",
        "  grade = 'B'\n",
        "elif grade >= 70 and grade < 80:\n",
        "  grade = 'C'\n",
        "elif grade >= 60 and grade < 70:\n",
        "  grade = 'D'\n",
        "elif grade >= 54 and grade < 60: \n",
        "  grade = 'F'\n",
        "else:\n",
        "  print ('None')\n",
        "\n",
        "  print (grade)\n",
        "\n",
        "  \n",
        "\n",
        "# write a program that will print the \"letter\"\n",
        "# equivalent of the grade, for example:\n",
        "# when grade = 90 # -> expect A\n",
        "# when grade = 80 # -> expect B\n",
        "# when grade = 70 # -> expect C\n",
        "# when grade = 60 # -> expect D\n",
        "# when grade = 54 # -> expect F\n",
        "# when grade = -10 # -> expect Error\n",
        "# when grade = 10000 # -> expect Error\n",
        "# when grade = \"lol skool sucks\" # -> expect Error\n"
      ],
      "execution_count": 0,
      "outputs": []
    },
    {
      "cell_type": "code",
      "metadata": {
        "id": "tQcLILMxyKf6",
        "colab_type": "code",
        "outputId": "af2726fb-25a0-4aaa-9add-5fc5f88675af",
        "colab": {
          "base_uri": "https://localhost:8080/",
          "height": 53
        }
      },
      "source": [
        "grade = 101\n",
        "\n",
        "if type(grade) == str or type (grade) == bool:\n",
        "  print ('not int and not float')\n",
        "  if my_condition == grade < 0 or grade > 100:\n",
        "    print (\"not a valid number\")\n",
        "  else:\n",
        "    print ('can run the calc')\n",
        "\n",
        "if grade >=90 and grade<=100:\n",
        "  grade='A'\n",
        "elif grade >=80 and grade<90:\n",
        "  grade='B'\n",
        "elif grade>=70 and grade<80:\n",
        "  grade = 'C'\n",
        "else:\n",
        "  print('None')\n",
        "print (grade)"
      ],
      "execution_count": 0,
      "outputs": [
        {
          "output_type": "stream",
          "text": [
            "None\n",
            "101\n"
          ],
          "name": "stdout"
        }
      ]
    },
    {
      "cell_type": "code",
      "metadata": {
        "id": "-XwGVxUFxy5o",
        "colab_type": "code",
        "colab": {}
      },
      "source": [
        ""
      ],
      "execution_count": 0,
      "outputs": []
    },
    {
      "cell_type": "code",
      "metadata": {
        "id": "UWp7GS_1x3Mh",
        "colab_type": "code",
        "colab": {}
      },
      "source": [
        ""
      ],
      "execution_count": 0,
      "outputs": []
    },
    {
      "cell_type": "markdown",
      "metadata": {
        "id": "HLfJLQFKVtoK",
        "colab_type": "text"
      },
      "source": [
        "\n",
        "\n",
        "### P2.PY\n",
        "\n",
        "\n"
      ]
    },
    {
      "cell_type": "code",
      "metadata": {
        "id": "g3fT3CxqVtoO",
        "colab_type": "code",
        "outputId": "8e28b2a3-ae92-4101-82bb-8c2e14d89159",
        "colab": {
          "base_uri": "https://localhost:8080/",
          "height": 53
        }
      },
      "source": [
        "\n",
        "\n",
        "# Given three numbers, a, b, c, without multiplying, determine the sign of their product.\n",
        "\n",
        "# EXAMPLE: a = -5, b = 6, c = -4, print 1\n",
        "\n",
        "# EXAMPLE: a = 5, b = 6, c = -4, print -1\n",
        "\n",
        "a = -2\n",
        "b = 1\n",
        "c = 3\n",
        "\n",
        "if a >= 0:\n",
        "  y = 1\n",
        "else:\n",
        "  y = -1\n",
        "if b >= 0:\n",
        "  x = 1\n",
        "else:\n",
        "  x =-1\n",
        "if c >= 0:\n",
        "  z = 1\n",
        "else:\n",
        "  z = -1\n",
        "\n",
        "if y + x + z == 3 or y + x + z == -1:\n",
        "  mult_of_abc = 'Positive'\n",
        "else:\n",
        "  mult_of_abc = 'Negative'\n",
        "\n",
        "print (a*b*c)\n",
        "print (f'a*b*c {mult_of_abc}')\n"
      ],
      "execution_count": 0,
      "outputs": [
        {
          "output_type": "stream",
          "text": [
            "-6\n",
            "a*b*c Negative\n"
          ],
          "name": "stdout"
        }
      ]
    },
    {
      "cell_type": "markdown",
      "metadata": {
        "id": "eUuhYKriVtoS",
        "colab_type": "text"
      },
      "source": [
        "\n",
        "\n",
        "### P3.PY\n",
        "\n",
        "\n"
      ]
    },
    {
      "cell_type": "code",
      "metadata": {
        "id": "gtAMAAaYVtoT",
        "colab_type": "code",
        "colab": {}
      },
      "source": [
        "\"\"\"\n",
        "Any Uppercase\n",
        "\"\"\"\n",
        "\n",
        "# Given a string str, determine if there are any uppercase values in it. Use \n",
        "# only conditional statements and string methods (you may have to look some up!)\n",
        "\n",
        "# EXAMPLE: str = \"teSt\", print True\n",
        "string = \"teSt\"\n",
        "\n",
        "print ('Please see below')\n"
      ],
      "execution_count": 0,
      "outputs": []
    },
    {
      "cell_type": "code",
      "metadata": {
        "id": "Yd50F9RSfXrh",
        "colab_type": "code",
        "colab": {}
      },
      "source": [
        "\n"
      ],
      "execution_count": 0,
      "outputs": []
    },
    {
      "cell_type": "code",
      "metadata": {
        "id": "9l4KjE-4f9wJ",
        "colab_type": "code",
        "outputId": "6d37c421-b1f6-4fdb-b65e-3469dc8820b3",
        "colab": {
          "base_uri": "https://localhost:8080/",
          "height": 107
        }
      },
      "source": [
        "b = 'teSt'\n",
        "a = len (b) - len(b)\n",
        "a = int (a)\n",
        "print (type(a))\n",
        "\n",
        "while a >=0 and a < len(b):\n",
        "  d = b[a]\n",
        "  c = d.isupper()\n",
        "  print (f'Is {b[a]} upper case? {c}')\n",
        "  a +=1"
      ],
      "execution_count": 0,
      "outputs": [
        {
          "output_type": "stream",
          "text": [
            "<class 'int'>\n",
            "Is t upper case? False\n",
            "Is e upper case? False\n",
            "Is S upper case? True\n",
            "Is t upper case? False\n"
          ],
          "name": "stdout"
        }
      ]
    },
    {
      "cell_type": "markdown",
      "metadata": {
        "id": "wG8CE6QTVtoW",
        "colab_type": "text"
      },
      "source": [
        "\n",
        "\n",
        "### P4.PY\n",
        "\n",
        "\n"
      ]
    },
    {
      "cell_type": "code",
      "metadata": {
        "id": "xZ5Mt4jSVtoX",
        "colab_type": "code",
        "outputId": "aa29cd75-4280-4739-964f-705c02542811",
        "colab": {
          "base_uri": "https://localhost:8080/",
          "height": 71
        }
      },
      "source": [
        "\"\"\"\n",
        "Empty Strings\n",
        "\"\"\"\n",
        "\n",
        "# Given any empty string, of the form:\n",
        "\n",
        "# ''\n",
        "# ' '\n",
        "# '  '\n",
        "# any other num of spaces...\n",
        "\n",
        "# determine if the str is empty or not (print True or False). Hint: You'll need \n",
        "# to look up how to remove trailing spaces from a string.\n",
        "\n",
        "a = '   v   '\n",
        "b = a.strip()\n",
        "d = a.lstrip()\n",
        "c = a.rstrip()\n",
        "print(f'''{b}, \n",
        "{d}, \n",
        "{c}''')"
      ],
      "execution_count": 0,
      "outputs": [
        {
          "output_type": "stream",
          "text": [
            "v, \n",
            "v   , \n",
            "   v\n"
          ],
          "name": "stdout"
        }
      ]
    },
    {
      "cell_type": "markdown",
      "metadata": {
        "id": "WlgQdALoVtof",
        "colab_type": "text"
      },
      "source": [
        "\n",
        "\n",
        "### P5.PY\n",
        "\n",
        "\n"
      ]
    },
    {
      "cell_type": "code",
      "metadata": {
        "id": "7_k9rebsVtog",
        "colab_type": "code",
        "colab": {}
      },
      "source": [
        "\"\"\"\n",
        "truthTableEvaluator\n",
        "\"\"\"\n",
        "\n",
        "# Given the following inputs:\n",
        "\n",
        "\n",
        "# P = # True or False\n",
        "# Q = # True or False\n",
        "# op = # '^' (logical AND, conjunction)\n",
        "#      # OR, 'v' (logical OR, disjunction)\n",
        "#      # OR, '->' (logical conditional, implication)\n",
        "#      # OR, '<->' (biconditional)\n",
        "# determine the correct outcome.\n",
        "\n",
        "# https://medium.com/i-math/intro-to-truth-tables-boolean-algebra-73b331dd9b94\n"
      ],
      "execution_count": 0,
      "outputs": []
    },
    {
      "cell_type": "markdown",
      "metadata": {
        "id": "zayFQdU7Vto2",
        "colab_type": "text"
      },
      "source": [
        "## RANDOM NUMBERS\n",
        "\n",
        "\n",
        "\n",
        "\n"
      ]
    },
    {
      "cell_type": "markdown",
      "metadata": {
        "id": "gtAK4fQAV9BC",
        "colab_type": "text"
      },
      "source": [
        "### P1.PY"
      ]
    },
    {
      "cell_type": "code",
      "metadata": {
        "id": "_dlFvP4QVto3",
        "colab_type": "code",
        "outputId": "d98434a1-240e-430a-b457-ca2df78badfd",
        "colab": {
          "base_uri": "https://localhost:8080/",
          "height": 35
        }
      },
      "source": [
        "\"\"\"\n",
        "Generate Traffic Light\n",
        "\"\"\"\n",
        "\n",
        "# import python randomint package\n",
        "\n",
        "\n",
        "# generates a random number from 1 to 3\n",
        "\n",
        "\n",
        "# if 1, print 'red'\n",
        "# if 2, print 'green',\n",
        "# if 3, print 'yellow'\n",
        "\n",
        "import random\n",
        "a = random.randint(1, 3)\n",
        "if a == 1:\n",
        "  print ('red')\n",
        "if a == 2:\n",
        "  print ('green')\n",
        "if a == 3:\n",
        "  print ('yellow')\n"
      ],
      "execution_count": 0,
      "outputs": [
        {
          "output_type": "stream",
          "text": [
            "yellow\n"
          ],
          "name": "stdout"
        }
      ]
    },
    {
      "cell_type": "markdown",
      "metadata": {
        "id": "nO0LSd8SVto5",
        "colab_type": "text"
      },
      "source": [
        "\n",
        "\n",
        "### P2.PY\n",
        "\n",
        "\n"
      ]
    },
    {
      "cell_type": "code",
      "metadata": {
        "id": "Dp5jFc2fVtpF",
        "colab_type": "code",
        "colab": {}
      },
      "source": [
        "\"\"\"\n",
        "Generate Phone Number w/Area Code\n",
        "\"\"\"\n",
        "\n",
        "# Generate a random phone number using these SPECS:\n",
        "### Should be a string in this format: 1-718-786-2825\n",
        "### Must randomly choose one of these area codes: 646, 718, 212\n",
        "\n",
        "import random\n",
        "def phn ():\n",
        "  "
      ],
      "execution_count": 0,
      "outputs": []
    },
    {
      "cell_type": "markdown",
      "metadata": {
        "id": "gRweE3nDVtpK",
        "colab_type": "text"
      },
      "source": [
        "## RPS\n",
        "\n",
        "\n"
      ]
    },
    {
      "cell_type": "markdown",
      "metadata": {
        "id": "IFUwrDumV_Vn",
        "colab_type": "text"
      },
      "source": [
        "### P1.PY"
      ]
    },
    {
      "cell_type": "code",
      "metadata": {
        "id": "sYTmAYzDVtpL",
        "colab_type": "code",
        "colab": {}
      },
      "source": [
        "\"\"\"\n",
        "Play RPS\n",
        "\"\"\"\n",
        "\n",
        "p1 = 'r'  # or 'p' or 's'\n",
        "p2 = 'r'  # or 'p' or 's'\n",
        "\n",
        "# Given a p1 and p2\n",
        "# print 1 if p1 has won\n",
        "# print 2 if p2 has won\n",
        "# print 0 if tie\n",
        "# print -1 if invalid input\n",
        "# expects both p1 and p2 inputs to be either\n",
        "# \"r\", \"p\", or \"s\"\n"
      ],
      "execution_count": 0,
      "outputs": []
    },
    {
      "cell_type": "markdown",
      "metadata": {
        "id": "fp77AykMVtpN",
        "colab_type": "text"
      },
      "source": [
        "\n",
        "\n",
        "### P2.PY\n",
        "\n",
        "\n"
      ]
    },
    {
      "cell_type": "code",
      "metadata": {
        "id": "mKMaxGH8VtpO",
        "colab_type": "code",
        "colab": {}
      },
      "source": [
        "\"\"\"\n",
        "Play RPS w/Computer\n",
        "\"\"\"\n",
        "\n",
        "import random\n",
        "\n",
        "p1 = None  # randomly choose 'r' or 'p' or 's'\n",
        "p2 = None  # randomly choose 'r' or 'p' or 's'\n",
        "\n",
        "# Given a p1 and p2\n",
        "# print 1 if p1 has won\n",
        "# print 2 if p2 has won\n",
        "# print 0 if tie\n",
        "# print -1 if invalid input\n",
        "# expects both p1 and p2 inputs to be either\n",
        "# \"r\", \"p\", or \"s\"\n"
      ],
      "execution_count": 0,
      "outputs": []
    },
    {
      "cell_type": "markdown",
      "metadata": {
        "id": "INgOFvdoVtpU",
        "colab_type": "text"
      },
      "source": [
        "\n",
        "\n",
        "### P3.PY\n",
        "\n",
        "\n"
      ]
    },
    {
      "cell_type": "code",
      "metadata": {
        "id": "vhAAHjMSVtpV",
        "colab_type": "code",
        "colab": {}
      },
      "source": [
        "\"\"\"\n",
        "Play RPS w/Input\n",
        "\"\"\"\n",
        "\n",
        "p1 = None  # from user input\n",
        "p2 = None  # from user input\n",
        "\n",
        "# Given a p1 and p2\n",
        "# print 1 if p1 has won\n",
        "# print 2 if p2 has won\n",
        "# print 0 if tie\n",
        "# print -1 if invalid input\n",
        "# expects both p1 and p2 inputs to be either\n",
        "# \"r\", \"p\", or \"s\"\n"
      ],
      "execution_count": 0,
      "outputs": []
    },
    {
      "cell_type": "markdown",
      "metadata": {
        "id": "SUqNu57OVtpY",
        "colab_type": "text"
      },
      "source": [
        "\n",
        "\n",
        "### P4.PY\n",
        "\n",
        "\n"
      ]
    },
    {
      "cell_type": "code",
      "metadata": {
        "id": "Vmlr5AqSVtpY",
        "colab_type": "code",
        "colab": {}
      },
      "source": [
        "\"\"\"\n",
        "Play RPS against Computer\n",
        "\"\"\"\n",
        "\n",
        "p1 = None  # from user input - we still want validation from above!\n",
        "p2 = None  # randomly generated against computer\n",
        "\n",
        "# Given a p1 and p2\n",
        "# print 1 if p1 has won\n",
        "# print 2 if p2 has won\n",
        "# print 0 if tie\n",
        "# print -1 if invalid input\n",
        "# expects both p1 and p2 inputs to be either\n",
        "# \"r\", \"p\", or \"s\"\n"
      ],
      "execution_count": 0,
      "outputs": []
    },
    {
      "cell_type": "markdown",
      "metadata": {
        "id": "F_7aaMtoVtpt",
        "colab_type": "text"
      },
      "source": [
        "\n",
        "\n",
        "### P5.PY\n",
        "\n",
        "\n"
      ]
    },
    {
      "cell_type": "code",
      "metadata": {
        "id": "U24EGu3VVtpu",
        "colab_type": "code",
        "colab": {}
      },
      "source": [
        "\"\"\"\n",
        "Play RPS w/Bad Input\n",
        "\"\"\"\n",
        "\n",
        "p1 = None  # can be invalid!\n",
        "p2 = None  # can be invalid!\n",
        "\n",
        "\"\"\"\n",
        "This is the same as the original RPS problem, \n",
        "except that cannot expect the input to be valid. \n",
        "While we *want* `r` or `p` or `s`, there is a possibility \n",
        "that input can be anything like...\n",
        "\n",
        "* `ROCK` (all caps)\n",
        "* `R` (`r` but capitalized)\n",
        "* `PAPrrRR` (incorrectly spelled, upper/lowercased)\n",
        "\n",
        "Implement conditional statements that will sanitize the \n",
        "user input or let user know that input is invalid.\n",
        "\"\"\"\n"
      ],
      "execution_count": 0,
      "outputs": []
    }
  ]
}