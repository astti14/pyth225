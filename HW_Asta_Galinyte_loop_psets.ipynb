{
  "nbformat": 4,
  "nbformat_minor": 0,
  "metadata": {
    "colab": {
      "name": "HW_Asta_Galinyte_loop_psets.ipynb",
      "provenance": [],
      "collapsed_sections": [],
      "include_colab_link": true
    },
    "kernelspec": {
      "name": "python3",
      "display_name": "Python 3"
    }
  },
  "cells": [
    {
      "cell_type": "markdown",
      "metadata": {
        "id": "view-in-github",
        "colab_type": "text"
      },
      "source": [
        "<a href=\"https://colab.research.google.com/github/astti14/pyth225/blob/master/HW_Asta_Galinyte_loop_psets.ipynb\" target=\"_parent\"><img src=\"https://colab.research.google.com/assets/colab-badge.svg\" alt=\"Open In Colab\"/></a>"
      ]
    },
    {
      "cell_type": "markdown",
      "metadata": {
        "id": "rvLI0ikiT-ZV",
        "colab_type": "text"
      },
      "source": [
        "#  LOOPS"
      ]
    },
    {
      "cell_type": "markdown",
      "metadata": {
        "id": "uVRP-haTUEUp",
        "colab_type": "text"
      },
      "source": [
        "## BASICS"
      ]
    },
    {
      "cell_type": "markdown",
      "metadata": {
        "id": "qujIvC8iUFsS",
        "colab_type": "text"
      },
      "source": [
        "### P1.PY"
      ]
    },
    {
      "cell_type": "code",
      "metadata": {
        "id": "RiZnK5MMT-ZW",
        "colab_type": "code",
        "outputId": "0099b4c3-e4d3-4a01-9926-825685e3d42c",
        "colab": {
          "base_uri": "https://localhost:8080/",
          "height": 40
        }
      },
      "source": [
        "\"\"\"\n",
        "Odds & Evens\n",
        "\"\"\"\n",
        "\n",
        "# Use a loop to make a list of all odd numbers between 1 and 10 and another list \n",
        "# with all the evens. When done, print the lists.\n",
        "\n",
        "# odds = \n",
        "\n",
        "# evens = \n",
        "\n",
        "print('PLEASE SEE BELOW')\n"
      ],
      "execution_count": 0,
      "outputs": [
        {
          "output_type": "stream",
          "text": [
            "PLEASE SEE BELOW\n"
          ],
          "name": "stdout"
        }
      ]
    },
    {
      "cell_type": "code",
      "metadata": {
        "id": "fNip5fQl8x0c",
        "colab_type": "code",
        "outputId": "839cbd59-cd46-49b7-9aa6-717923e96cd9",
        "colab": {
          "base_uri": "https://localhost:8080/",
          "height": 63
        }
      },
      "source": [
        "a = [1, 2, 3, 4, 5, 6, 7, 8, 9, 10]\n",
        "\n",
        "b = []\n",
        "c = []\n",
        "for number_y in a:\n",
        "  if number_y % 2 == 0:\n",
        "    b.append(number_y)\n",
        "  else:\n",
        "    c.append (number_y)\n",
        "print (f'Evens: {b}')\n",
        "print (f'Odds: {c}')"
      ],
      "execution_count": 0,
      "outputs": [
        {
          "output_type": "stream",
          "text": [
            "Evens: [2, 4, 6, 8, 10]\n",
            "Odds: [1, 3, 5, 7, 9]\n"
          ],
          "name": "stdout"
        }
      ]
    },
    {
      "cell_type": "markdown",
      "metadata": {
        "id": "_N6Dw7OZ7s-p",
        "colab_type": "text"
      },
      "source": [
        ""
      ]
    },
    {
      "cell_type": "markdown",
      "metadata": {
        "id": "NZoDldAJT-ZZ",
        "colab_type": "text"
      },
      "source": [
        "\n",
        "\n",
        "### P2.PY\n",
        "\n",
        "\n"
      ]
    },
    {
      "cell_type": "code",
      "metadata": {
        "id": "6BxOPOuET-Za",
        "colab_type": "code",
        "outputId": "018d1000-6287-49c0-8c3f-891f92c3513c",
        "colab": {
          "base_uri": "https://localhost:8080/",
          "height": 178
        }
      },
      "source": [
        "\"\"\"\n",
        "Lists with Duplicates\n",
        "\"\"\"\n",
        "\n",
        "# First, print list a below as it is now.\n",
        "\n",
        "a = [2, 4, 10, 20, 5, 2, 20, 4]\n",
        "b = [13, 2, 25, 20, 4, 8]\n",
        "a = sorted (a)\n",
        "b = sorted (b)\n",
        "\n",
        "# Using a loop, remove the duplicate items from list a and print out the updated list.\n",
        "\n",
        "\n",
        "# Using a loop, merge list b into list a without adding any duplicates.\n",
        "print (a)\n",
        "print (b)\n",
        "index = 0\n",
        "d = a[index]\n",
        "print (d)\n",
        "c = []\n",
        "while a.count (d) > 1:\n",
        "  a.remove(d)\n",
        "  index = index + 1\n",
        "  d = a[index]\n",
        "\n",
        "m = b[index]\n",
        "while b.count (m) > 1:\n",
        "  b.remove (m)\n",
        "  index = index + 1\n",
        "  m = b[index] \n",
        "\n",
        "print (a)\n",
        "print (b)\n",
        "\n",
        "new_lis = list (a + b)\n",
        "print (new_lis)\n",
        "new_set = set (new_lis)\n",
        "print (new_set)"
      ],
      "execution_count": 0,
      "outputs": [
        {
          "output_type": "stream",
          "text": [
            "[2, 2, 4, 4, 5, 10, 20, 20]\n",
            "[2, 4, 8, 13, 20, 25]\n",
            "2\n",
            "[2, 4, 5, 10, 20, 20]\n",
            "[2, 4, 8, 13, 20, 25]\n",
            "[2, 4, 5, 10, 20, 20, 2, 4, 8, 13, 20, 25]\n",
            "{2, 4, 5, 8, 10, 13, 20, 25}\n"
          ],
          "name": "stdout"
        }
      ]
    },
    {
      "cell_type": "markdown",
      "metadata": {
        "id": "JiG0W3n3T-Ze",
        "colab_type": "text"
      },
      "source": [
        "\n",
        "\n",
        "### P3.PY\n",
        "\n",
        "\n"
      ]
    },
    {
      "cell_type": "code",
      "metadata": {
        "id": "PZY5tAw4T-Zf",
        "colab_type": "code",
        "outputId": "a05cb183-d9e9-4e1a-deaa-d18f9980b6c9",
        "colab": {
          "base_uri": "https://localhost:8080/",
          "height": 178
        }
      },
      "source": [
        "\"\"\"\n",
        "Temperature Conversions\n",
        "\"\"\"\n",
        "\n",
        "# You're studying climate change, and over the last 3 years, you've recorded the\n",
        "# temperature at noon every day in degrees Fahrenheit (F). The var sampleF holds a portion of those recordings. \n",
        "\n",
        "sampleF = [71.6, 82.4, 91.4, 107.6, 125.6]\n",
        "\n",
        "# Convert each item in this list into degrees Celsius and \n",
        "# add the results to a dict called sample_temps so that the \n",
        "# conversion of each day's temperature is easily accessible. For reference, the conversion equation between F and C is:\n",
        "# Celsius = (Fahrenheit - 32) * 5.0/9.0\n",
        "\n",
        "\n",
        "# sample_temps = \n",
        "new_list=[]\n",
        "for i in sampleF:\n",
        "  i = (i - 32) * 5.0 / 9.0\n",
        "  print(int(i))\n",
        "  new_list.append(int(i))\n",
        "  \n",
        "print (new_list)\n",
        "sample_temps = set (new_list)\n",
        "print (sample_temps)\n"
      ],
      "execution_count": 0,
      "outputs": [
        {
          "output_type": "stream",
          "text": [
            "21\n",
            "28\n",
            "33\n",
            "42\n",
            "52\n",
            "[21, 28, 33, 42, 52]\n",
            "{33, 42, 52, 21, 28}\n"
          ],
          "name": "stdout"
        }
      ]
    },
    {
      "cell_type": "code",
      "metadata": {
        "id": "3MacWIBbhpt6",
        "colab_type": "code",
        "colab": {}
      },
      "source": [
        ""
      ],
      "execution_count": 0,
      "outputs": []
    },
    {
      "cell_type": "markdown",
      "metadata": {
        "id": "337FvlPKUNqp",
        "colab_type": "text"
      },
      "source": [
        "### P4.PY"
      ]
    },
    {
      "cell_type": "code",
      "metadata": {
        "id": "00D_V8BnT-Z2",
        "colab_type": "code",
        "outputId": "cc303f08-8c53-485b-cfaa-fa453e16f4f5",
        "colab": {
          "base_uri": "https://localhost:8080/",
          "height": 301
        }
      },
      "source": [
        "\"\"\"\n",
        "Control Flow - I\n",
        "\n",
        "Print the numbers in some range until you find a multiple of 7. \n",
        "At that point, print \"___ is the first multiple of 7 in this \n",
        "range.\" If the range does NOT include any multiples of 7, after \n",
        "you've printed the last number in the range, print \"There are \n",
        "no multiples of 7 in this range.\n",
        "\"\"\"\n",
        "\n",
        "x = range (1,15)\n",
        "y = []\n",
        "for i in x:\n",
        "  print (i)\n",
        "  if i % 7 == 0:\n",
        "    y.append (i)\n",
        "print (f'{y[0]} is the first multiple of 7 in this range') \n",
        "print (f' List of multiples of 7 is {y}')\n",
        "if len(y) == 0:\n",
        "  print (\"There are no multiples of 7 in this range\")\n",
        "\n"
      ],
      "execution_count": 0,
      "outputs": [
        {
          "output_type": "stream",
          "text": [
            "1\n",
            "2\n",
            "3\n",
            "4\n",
            "5\n",
            "6\n",
            "7\n",
            "8\n",
            "9\n",
            "10\n",
            "11\n",
            "12\n",
            "13\n",
            "14\n",
            "7 is the first multiple of 7 in this range\n",
            " List of multiples of 7 is [7, 14]\n"
          ],
          "name": "stdout"
        }
      ]
    },
    {
      "cell_type": "markdown",
      "metadata": {
        "id": "aeUUzlj2T-Z5",
        "colab_type": "text"
      },
      "source": [
        "\n",
        "\n",
        "### P5.PY\n",
        "\n",
        "\n"
      ]
    },
    {
      "cell_type": "code",
      "metadata": {
        "id": "BXM9shfoT-Z5",
        "colab_type": "code",
        "outputId": "b2c3cd7d-a18e-4392-f9e4-d5c7fc631634",
        "colab": {
          "base_uri": "https://localhost:8080/",
          "height": 124
        }
      },
      "source": [
        "\"\"\"\n",
        "Control Flow II\n",
        "\n",
        "Write a Python program that prints all the numbers from \n",
        "0 to 6 except 3 and 6. Note: Use a 'continue' statement. \n",
        "\"\"\"\n",
        "\n",
        "\n",
        "a = range (0,7)\n",
        "for number in a:\n",
        "  if number == 3 or number == 6:\n",
        "    continue\n",
        "  print(number)\n",
        "print('Done.')\n"
      ],
      "execution_count": 0,
      "outputs": [
        {
          "output_type": "stream",
          "text": [
            "0\n",
            "1\n",
            "2\n",
            "4\n",
            "5\n",
            "Done.\n"
          ],
          "name": "stdout"
        }
      ]
    },
    {
      "cell_type": "markdown",
      "metadata": {
        "id": "DGA_yKgt7KuB",
        "colab_type": "text"
      },
      "source": [
        "## FACTORS"
      ]
    },
    {
      "cell_type": "markdown",
      "metadata": {
        "id": "1WCBfmzxT-Zi",
        "colab_type": "text"
      },
      "source": [
        "\n",
        "\n",
        "### P1.PY\n",
        "\n",
        "\n"
      ]
    },
    {
      "cell_type": "code",
      "metadata": {
        "id": "D3n41TY3T-Zi",
        "colab_type": "code",
        "outputId": "68de689c-24cb-490d-c743-6cb800c14376",
        "colab": {
          "base_uri": "https://localhost:8080/",
          "height": 88
        }
      },
      "source": [
        "\"\"\"\n",
        "Factorial\n",
        "\"\"\"\n",
        "\n",
        "# Find the factorial of a number input by a user. Then print out the factors \n",
        "# within the factorial and then print out the actual numeric answer. Hint: The formula for a factorial is n! = (n-1)*n.\n",
        "\n",
        "\n",
        "# Example output:\n",
        "\"\"\"\n",
        "8! = 8*7*6*5*4*3*2*1\n",
        "8! = 40320\n",
        "\"\"\"\n",
        "# y = print (input('Enter a number to find its factorial: '))\n",
        "n = 3\n",
        "lis = []\n",
        "lis.append (n)\n",
        "while n-1 > 0:\n",
        "  lis.append (n-1)\n",
        "  n -=1\n",
        "print (lis)\n",
        "y = max (lis)\n",
        "# print (y)\n",
        "for i in lis:\n",
        "  # print(i)\n",
        "  if i == 2:\n",
        "    continue\n",
        "  i = i * (i-1)\n",
        "  # print (i)\n",
        "  # b = i * (i-1)\n",
        "  # c = b\n",
        "  print(i)\n",
        "    # i -=1 \n",
        "    # print (i)\n",
        "\n",
        "  \n",
        "\n"
      ],
      "execution_count": 0,
      "outputs": [
        {
          "output_type": "stream",
          "text": [
            "[3, 2, 1]\n",
            "6\n",
            "3\n",
            "0\n"
          ],
          "name": "stdout"
        }
      ]
    },
    {
      "cell_type": "markdown",
      "metadata": {
        "id": "34_iw8-4T-Zl",
        "colab_type": "text"
      },
      "source": [
        "\n",
        "\n",
        "### P2.PY\n",
        "\n",
        "\n"
      ]
    },
    {
      "cell_type": "code",
      "metadata": {
        "id": "EnPbAafST-Zm",
        "colab_type": "code",
        "outputId": "bd3c51fd-d6b3-4db3-e8e3-337d54ab9f46",
        "colab": {
          "base_uri": "https://localhost:8080/",
          "height": 70
        }
      },
      "source": [
        "\"\"\"\n",
        "Factors\n",
        "\"\"\"\n",
        "\n",
        "# Find all factors of a number that a user inputs and print out 'The factors of <the_user_input_number> are: '.\n",
        "\n",
        "# user_input = input('Enter a number to find its factors: ')\n",
        "# int(input())\n",
        "n = int (input('Enter a number to find its factors: '))\n",
        "print (n)\n",
        "lis = []\n",
        "lis.append (n)\n",
        "while (n-1) > 0:\n",
        "  lis.append (n-1)\n",
        "  n -=1\n",
        "  \n",
        "print (lis)\n",
        "\n"
      ],
      "execution_count": 0,
      "outputs": [
        {
          "output_type": "stream",
          "text": [
            "Enter a number to find its factors: 10\n",
            "10\n",
            "[10, 9, 8, 7, 6, 5, 4, 3, 2, 1]\n"
          ],
          "name": "stdout"
        }
      ]
    },
    {
      "cell_type": "markdown",
      "metadata": {
        "id": "XQbSY6kYT-Zo",
        "colab_type": "text"
      },
      "source": [
        "\n",
        "\n",
        "### P3.PY\n",
        "\n",
        "\n"
      ]
    },
    {
      "cell_type": "code",
      "metadata": {
        "id": "YFYeCVqWT-Zp",
        "colab_type": "code",
        "outputId": "3d5d296c-a6c1-4f54-ed36-057c4ba6ef38",
        "colab": {
          "base_uri": "https://localhost:8080/",
          "height": 124
        }
      },
      "source": [
        "\"\"\"\n",
        "GCD\n",
        "\"\"\"\n",
        "\n",
        "# Find the greatest common denominator (GCD) of two number input by a user. Then \n",
        "# print out 'The GCD of <first number> and <second number> is <your result>.'\n",
        "\n",
        "print('Enter two numbers to find their greatest common denominator.')\n",
        "\n",
        "n = int( input('First number: '))\n",
        "m = int (input('Second number: '))\n",
        "\n",
        "print (n)\n",
        "lisn = []\n",
        "lisn.append (n)\n",
        "while (n-1) > 0:\n",
        "  lisn.append (n-1)\n",
        "  n -=1\n",
        "# print (lisn)\n",
        "\n",
        "print (m)\n",
        "lism = []\n",
        "lism.append (m)\n",
        "while (m-1) > 0:\n",
        "  lism.append (m-1)\n",
        "  m -=1\n",
        "# print (lism)\n",
        "max_lisn = max (lisn)\n",
        "max_lism = max (lism)\n",
        "# print (max_lisn)\n",
        "# print (max_lism)\n",
        "g = lisn + lism\n",
        "g.sort ()\n",
        "# print (g)\n",
        "a = set (g)\n",
        "if max_lisn > max_lism:\n",
        "   a = max_lism\n",
        "else:\n",
        "  a = max_lisn\n",
        "# print (a)\n",
        "\n",
        "print (f'The GCD of {max_lisn} and {max_lism} is {a}') "
      ],
      "execution_count": 0,
      "outputs": [
        {
          "output_type": "stream",
          "text": [
            "Enter two numbers to find their greatest common denominator.\n",
            "First number: 15\n",
            "Second number: 5\n",
            "15\n",
            "5\n",
            "The GCD of 15 and 5 is 5\n"
          ],
          "name": "stdout"
        }
      ]
    },
    {
      "cell_type": "markdown",
      "metadata": {
        "id": "HvXqnAyuT-Z8",
        "colab_type": "text"
      },
      "source": [
        "## SHAPES\n",
        "\n",
        "\n"
      ]
    },
    {
      "cell_type": "markdown",
      "metadata": {
        "id": "OU_s6uQgUQf-",
        "colab_type": "text"
      },
      "source": [
        "### P1.PY"
      ]
    },
    {
      "cell_type": "code",
      "metadata": {
        "id": "ruFtcQasT-Z9",
        "colab_type": "code",
        "outputId": "4fb2b323-d192-4b4f-842d-ed228aa4ae76",
        "colab": {
          "base_uri": "https://localhost:8080/",
          "height": 106
        }
      },
      "source": [
        "\"\"\"\n",
        "Build a Triangle I \n",
        "\n",
        "Use a FOR loop to print a triangle of stars that looks like this:\n",
        "\n",
        "*\n",
        "**\n",
        "***\n",
        "****\n",
        "*****\n",
        "\n",
        "\"\"\"\n",
        "max_ = 6\n",
        "for i in range (1,6):\n",
        "  # print(i)\n",
        "  diff = max_ - i\n",
        "  right = [\" \"] * diff\n",
        "  stars = [\"*\"] * i\n",
        "  # print (right, stars)\n",
        "  print (\"\".join (stars) + \"\".join (right)) \n"
      ],
      "execution_count": 0,
      "outputs": [
        {
          "output_type": "stream",
          "text": [
            "*     \n",
            "**    \n",
            "***   \n",
            "****  \n",
            "***** \n"
          ],
          "name": "stdout"
        }
      ]
    },
    {
      "cell_type": "markdown",
      "metadata": {
        "colab_type": "text",
        "id": "FSN_Wqyf8UnQ"
      },
      "source": [
        "### P2.PY"
      ]
    },
    {
      "cell_type": "code",
      "metadata": {
        "colab_type": "code",
        "id": "6oJisy5A8UnV",
        "outputId": "56821e28-2788-4f91-fe2d-6b1383f98771",
        "colab": {
          "base_uri": "https://localhost:8080/",
          "height": 106
        }
      },
      "source": [
        "\"\"\"\n",
        "Build a Triangle II\n",
        "\n",
        "Use a WHILE loop to print a triangle of stars that looks like this:\n",
        "\n",
        "*\n",
        "**\n",
        "***\n",
        "****\n",
        "*****\n",
        "\n",
        "\"\"\"\n",
        "\n",
        "a = 1\n",
        "while a < 6:\n",
        "  # print(i)\n",
        "  diff = a + 1\n",
        "  right = [\" \"] * diff\n",
        "  stars = [\"*\"] * a\n",
        "  # print (right, stars)\n",
        "  print (\"\".join (stars) + \"\".join (right)) \n",
        "  a += 1\n",
        "  "
      ],
      "execution_count": 0,
      "outputs": [
        {
          "output_type": "stream",
          "text": [
            "*  \n",
            "**   \n",
            "***    \n",
            "****     \n",
            "*****      \n"
          ],
          "name": "stdout"
        }
      ]
    },
    {
      "cell_type": "markdown",
      "metadata": {
        "id": "kE68tEQnT-aE",
        "colab_type": "text"
      },
      "source": [
        "\n",
        "\n",
        "### P3.PY\n",
        "\n",
        "\n"
      ]
    },
    {
      "cell_type": "code",
      "metadata": {
        "id": "n2pxG5J6T-aF",
        "colab_type": "code",
        "outputId": "563f95a2-141f-4fc8-eea8-e13dec71e922",
        "colab": {
          "base_uri": "https://localhost:8080/",
          "height": 106
        }
      },
      "source": [
        "\"\"\"\n",
        "Build a Pyramid I\n",
        "\n",
        "Use a FOR loop to print a pyramid of stars that looks like this:\n",
        "\n",
        "    *\n",
        "   ***\n",
        "  *****\n",
        " *******\n",
        "*********\n",
        "\n",
        "\"\"\"\n",
        "max_ = 10\n",
        "for i in range (1,10,2):\n",
        "  # print(i)\n",
        "  diff = (max_ - i)\n",
        "  right = [\" \"] * int (diff/2)\n",
        "  left = [\" \"] * int (diff/2)\n",
        "  stars = [\"*\"] * i\n",
        "  # print (right, stars)\n",
        "  print (\"\".join (left) + \"\".join (stars) + \"\".join (right)) "
      ],
      "execution_count": 0,
      "outputs": [
        {
          "output_type": "stream",
          "text": [
            "    *    \n",
            "   ***   \n",
            "  *****  \n",
            " ******* \n",
            "*********\n"
          ],
          "name": "stdout"
        }
      ]
    },
    {
      "cell_type": "markdown",
      "metadata": {
        "colab_type": "text",
        "id": "I-A5Y-oo8Una"
      },
      "source": [
        "### P4.PY\n"
      ]
    },
    {
      "cell_type": "code",
      "metadata": {
        "colab_type": "code",
        "id": "UwNy5b028Unb",
        "outputId": "87bf996d-2598-44bb-894c-9b83efe03638",
        "colab": {
          "base_uri": "https://localhost:8080/",
          "height": 106
        }
      },
      "source": [
        "\"\"\"\n",
        "Build a Pyramid II\n",
        "\n",
        "Use a WHILE loop to print a pyramid of stars that looks like this:\n",
        "\n",
        "    *\n",
        "   ***\n",
        "  *****\n",
        " *******\n",
        "*********\n",
        "\n",
        "\"\"\"\n",
        "a = 1\n",
        "while a < 10:\n",
        "  # print(i)\n",
        "  diff = (10 - a)\n",
        "  right = [\" \"] * int (diff/2)\n",
        "  left = [\" \"] * int (diff/2)\n",
        "  stars = [\"*\"] * a\n",
        "  # print (right, stars)\n",
        "  print (\"\".join (left) + \"\".join (stars) + \"\".join (right)) \n",
        "  a += 2"
      ],
      "execution_count": 0,
      "outputs": [
        {
          "output_type": "stream",
          "text": [
            "    *    \n",
            "   ***   \n",
            "  *****  \n",
            " ******* \n",
            "*********\n"
          ],
          "name": "stdout"
        }
      ]
    },
    {
      "cell_type": "markdown",
      "metadata": {
        "id": "wtaxsnSST-aH",
        "colab_type": "text"
      },
      "source": [
        "\n",
        "\n",
        "### P5.PY\n",
        "\n",
        "\n"
      ]
    },
    {
      "cell_type": "code",
      "metadata": {
        "id": "fiYt3OQrT-aI",
        "colab_type": "code",
        "outputId": "9cbfe7bf-fa7b-4746-b340-de323dde1034",
        "colab": {
          "base_uri": "https://localhost:8080/",
          "height": 195
        }
      },
      "source": [
        "\"\"\"\n",
        "Build a Diamond I\n",
        "\n",
        "Use a FOR loop to print a diamond of stars that looks like this:\n",
        "\n",
        "    *\n",
        "   ***\n",
        "  *****\n",
        " *******\n",
        "*********\n",
        " *******\n",
        "  *****\n",
        "   ***\n",
        "    *\n",
        "\"\"\"\n",
        "\n",
        "max_ = 10\n",
        "for i in range (1,10,2):\n",
        "  # print(i)\n",
        "  diff = (max_ - i)\n",
        "  right = [\" \"] * int (diff/2)\n",
        "  left = [\" \"] * int (diff/2)\n",
        "  stars = [\"*\"] * i\n",
        "  # print (right, stars)\n",
        "  print (\"\".join (left) + \"\".join (stars) + \"\".join (right)) \n",
        "\n",
        "lis_b = [1, 3, 5, 7, 9]\n",
        "lis_b.sort (reverse = True)\n",
        "maxb = max (lis_b)\n",
        "for i in lis_b:\n",
        "  # print(i)\n",
        "  diff = (maxb - i)\n",
        "  right = [\" \"] * int (diff/2)\n",
        "  left = [\" \"] * int (diff/2)\n",
        "  stars = [\"*\"] * i\n",
        "  # print (right, stars)\n",
        "  lis = (\"\".join (left) + \"\".join (stars) + \"\".join (right)) \n",
        "  print (lis)"
      ],
      "execution_count": 0,
      "outputs": [
        {
          "output_type": "stream",
          "text": [
            "    *    \n",
            "   ***   \n",
            "  *****  \n",
            " ******* \n",
            "*********\n",
            "*********\n",
            " ******* \n",
            "  *****  \n",
            "   ***   \n",
            "    *    \n"
          ],
          "name": "stdout"
        }
      ]
    },
    {
      "cell_type": "markdown",
      "metadata": {
        "colab_type": "text",
        "id": "l7AOi4Xa8Une"
      },
      "source": [
        "### P6.PY"
      ]
    },
    {
      "cell_type": "code",
      "metadata": {
        "colab_type": "code",
        "id": "oK7nfy_D8Unj",
        "outputId": "73958aeb-9c9b-46ac-c07f-97ed99ca2b3b",
        "colab": {
          "base_uri": "https://localhost:8080/",
          "height": 195
        }
      },
      "source": [
        "\"\"\"\n",
        "Build a Diamond II\n",
        "\n",
        "Use a WHILE loop to print a diamond of stars that looks like this:\n",
        "\n",
        "    *\n",
        "   ***\n",
        "  *****\n",
        " *******\n",
        "*********\n",
        " *******\n",
        "  *****\n",
        "   ***\n",
        "    *\n",
        "\"\"\"\n",
        "a = 1\n",
        "while a < 10:\n",
        "  # print(i)\n",
        "  diff = (10 - a)\n",
        "  right = [\" \"] * int (diff/2)\n",
        "  left = [\" \"] * int (diff/2)\n",
        "  stars = [\"*\"] * a\n",
        "  # print (right, stars)\n",
        "  print (\"\".join (left) + \"\".join (stars) + \"\".join (right)) \n",
        "  a += 2\n",
        "  \n",
        "b = 9\n",
        "while b > 0:\n",
        "  # print(i)\n",
        "  diff = (9 - b)\n",
        "  right = [\" \"] * int (diff/2)\n",
        "  left = [\" \"] * int (diff/2)\n",
        "  stars = [\"*\"] * b\n",
        "  # print (right, stars)\n",
        "  print (\"\".join (left) + \"\".join (stars) + \"\".join (right)) \n",
        "  b -= 2"
      ],
      "execution_count": 0,
      "outputs": [
        {
          "output_type": "stream",
          "text": [
            "    *    \n",
            "   ***   \n",
            "  *****  \n",
            " ******* \n",
            "*********\n",
            "*********\n",
            " ******* \n",
            "  *****  \n",
            "   ***   \n",
            "    *    \n"
          ],
          "name": "stdout"
        }
      ]
    },
    {
      "cell_type": "markdown",
      "metadata": {
        "id": "pCsSUlIBT-aK",
        "colab_type": "text"
      },
      "source": [
        "## LOOP_CHALLENGES\n",
        "\n"
      ]
    },
    {
      "cell_type": "markdown",
      "metadata": {
        "id": "jwd1KZXKUTAc",
        "colab_type": "text"
      },
      "source": [
        "### P1.PY"
      ]
    },
    {
      "cell_type": "code",
      "metadata": {
        "id": "cKlAnBVhT-aL",
        "colab_type": "code",
        "colab": {}
      },
      "source": [
        "\"\"\"\n",
        "Valid Passwords\n",
        "\"\"\"\n",
        "\n",
        "# Check the validity of password input by users based on the below security \n",
        "# requirements: At least 1 letter between [a-z] and 1 letter between [A-Z].\n",
        "\"\"\"\n",
        "# At least 1 letter between [a-z] and 1 letter between [A-Z].\n",
        "#At least 1 number between [0-9].\n",
        "At least 1 character from [$#@].\n",
        "Minimum length 6 characters.\n",
        "Maximum length 16 characters.\n",
        "\"\"\"\n",
        "# Hint: Look up the documentation for the \"re\" library and it's \".search()\" method.\n",
        "# p = input(\"Input your password: \")\n",
        "\n",
        "user_input = '9 maggie'\n",
        "import re\n",
        "patterns1 = ['1','2','3','4','5','6','7','8','9','$','#','@','a','b','z','A', 'B','Z']\n",
        "# print (patterns1)\n",
        "matches = []\n",
        "no_matches = []\n",
        "for i in patterns1:\n",
        "  # print (i)\n",
        "  if re.search (i,user_input):\n",
        "    matches.append (i)\n",
        "    # print ('match')\n",
        "    if len (matches) > 0:\n",
        "      # print ('Pasword is valid')\n",
        "      no_matches.append (i)\n",
        "    else:\n",
        "      print ('Password is not valid')\n",
        "\n",
        "  "
      ],
      "execution_count": 0,
      "outputs": []
    },
    {
      "cell_type": "markdown",
      "metadata": {
        "id": "lDd1dMe5T-aN",
        "colab_type": "text"
      },
      "source": [
        "\n",
        "\n",
        "### P2.PY\n",
        "\n",
        "\n"
      ]
    },
    {
      "cell_type": "code",
      "metadata": {
        "id": "n8kuflOLT-aR",
        "colab_type": "code",
        "colab": {}
      },
      "source": [
        "\"\"\"\n",
        "Prime Numbers I\n",
        "\"\"\"\n",
        "\n",
        "# Check if a number input by a user is prime or not. If it is NOT a prime number, \n",
        "# print out that it is not a prime number. If it IS a prime number, print out \n",
        "# that it is a prime number and give an example of two of its factors. Hint: Prime numbers must be greater than 1.\n",
        "\n",
        "# Example of output for a NON-prime:\n",
        "# 12 is not a prime number\n",
        "# For example, 2 x 6 = 12\n",
        "# user_input = input(\"Enter a number to check if it's prime: \")\n",
        "\n",
        "i = int (10)\n",
        "if i % 2 = 0 or i % = 0 or \n",
        "  print (f'{i} is not a prime number')\n",
        "\n"
      ],
      "execution_count": 0,
      "outputs": []
    }
  ]
}