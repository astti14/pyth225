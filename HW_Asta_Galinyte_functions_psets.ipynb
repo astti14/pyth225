{
  "nbformat": 4,
  "nbformat_minor": 0,
  "metadata": {
    "colab": {
      "name": "HW_Asta Galinyte_functions_psets.ipynb",
      "provenance": [],
      "collapsed_sections": [],
      "include_colab_link": true
    },
    "kernelspec": {
      "name": "python3",
      "display_name": "Python 3"
    }
  },
  "cells": [
    {
      "cell_type": "markdown",
      "metadata": {
        "id": "view-in-github",
        "colab_type": "text"
      },
      "source": [
        "<a href=\"https://colab.research.google.com/github/astti14/pyth225/blob/master/HW_Asta_Galinyte_functions_psets.ipynb\" target=\"_parent\"><img src=\"https://colab.research.google.com/assets/colab-badge.svg\" alt=\"Open In Colab\"/></a>"
      ]
    },
    {
      "cell_type": "markdown",
      "metadata": {
        "id": "43e1PgRyNeyZ",
        "colab_type": "text"
      },
      "source": [
        "<a href=\"https://colab.research.google.com/github/mottaquikarim/PYTH2/blob/master/src/PSETS/nb/classes_psets.ipynb\" target=\"_parent\"><img src=\"https://colab.research.google.com/assets/colab-badge.svg\" alt=\"Open In Colab\"/></a>"
      ]
    },
    {
      "cell_type": "markdown",
      "metadata": {
        "id": "_IvyUuPjNeyb",
        "colab_type": "text"
      },
      "source": [
        "#  FUNCTIONS"
      ]
    },
    {
      "cell_type": "markdown",
      "metadata": {
        "id": "RGgp__RZNvUy",
        "colab_type": "text"
      },
      "source": [
        "## BASIC FUNCTION OPS"
      ]
    },
    {
      "cell_type": "markdown",
      "metadata": {
        "id": "yEdzSlN8NwyE",
        "colab_type": "text"
      },
      "source": [
        "### P1.PY"
      ]
    },
    {
      "cell_type": "code",
      "metadata": {
        "id": "XixCtMjENeye",
        "colab_type": "code",
        "outputId": "95431368-7df4-46c9-a5e8-319ed5a7f28c",
        "colab": {
          "base_uri": "https://localhost:8080/",
          "height": 238
        }
      },
      "source": [
        "\"\"\"\n",
        "Function Basics I - No Input\n",
        "\"\"\"\n",
        "\n",
        "# Write a and call a function called \"rand_list\" that generates a list of 5 random numbers between 1 and 500. Print out that list.\n",
        "# def ran_list:\n",
        "a = []\n",
        "for num in range (1,500):\n",
        "  a.append (num)\n",
        "  break\n",
        "print (a)\n",
        "\n"
      ],
      "execution_count": 0,
      "outputs": [
        {
          "output_type": "error",
          "ename": "NameError",
          "evalue": "ignored",
          "traceback": [
            "\u001b[0;31m---------------------------------------------------------------------------\u001b[0m",
            "\u001b[0;31mNameError\u001b[0m                                 Traceback (most recent call last)",
            "\u001b[0;32m<ipython-input-8-644a0e4fa788>\u001b[0m in \u001b[0;36m<module>\u001b[0;34m()\u001b[0m\n\u001b[1;32m      6\u001b[0m \u001b[0;31m# def ran_list:\u001b[0m\u001b[0;34m\u001b[0m\u001b[0;34m\u001b[0m\u001b[0;34m\u001b[0m\u001b[0m\n\u001b[1;32m      7\u001b[0m \u001b[0ma\u001b[0m \u001b[0;34m=\u001b[0m \u001b[0;34m[\u001b[0m\u001b[0;34m]\u001b[0m\u001b[0;34m\u001b[0m\u001b[0;34m\u001b[0m\u001b[0m\n\u001b[0;32m----> 8\u001b[0;31m \u001b[0;32mfor\u001b[0m \u001b[0mnum\u001b[0m \u001b[0;32min\u001b[0m \u001b[0mrandom\u001b[0m\u001b[0;34m.\u001b[0m\u001b[0mrandrange\u001b[0m \u001b[0;34m(\u001b[0m\u001b[0;36m1\u001b[0m\u001b[0;34m,\u001b[0m\u001b[0;36m500\u001b[0m\u001b[0;34m,\u001b[0m\u001b[0;36m5\u001b[0m\u001b[0;34m)\u001b[0m\u001b[0;34m:\u001b[0m\u001b[0;34m\u001b[0m\u001b[0;34m\u001b[0m\u001b[0m\n\u001b[0m\u001b[1;32m      9\u001b[0m \u001b[0;34m\u001b[0m\u001b[0m\n\u001b[1;32m     10\u001b[0m   \u001b[0ma\u001b[0m\u001b[0;34m.\u001b[0m\u001b[0mappend\u001b[0m \u001b[0;34m(\u001b[0m\u001b[0mnum\u001b[0m\u001b[0;34m)\u001b[0m\u001b[0;34m\u001b[0m\u001b[0;34m\u001b[0m\u001b[0m\n",
            "\u001b[0;31mNameError\u001b[0m: name 'random' is not defined"
          ]
        }
      ]
    },
    {
      "cell_type": "markdown",
      "metadata": {
        "id": "JHygF2-tNeyk",
        "colab_type": "text"
      },
      "source": [
        "### P2.PY\n"
      ]
    },
    {
      "cell_type": "code",
      "metadata": {
        "id": "a08oiPvoNeyl",
        "colab_type": "code",
        "outputId": "7f14083f-2f4a-4b79-de71-6ea1534891a9",
        "colab": {
          "base_uri": "https://localhost:8080/",
          "height": 70
        }
      },
      "source": [
        "\"\"\"\n",
        "Function Basics II - Arguments\n",
        "\"\"\"\n",
        "\n",
        "# Write a and call function called \"names\" that separately intakes a person's\n",
        "#  first name and a person's last name. It should concatenate the names and return the person's full name.\n",
        "\n",
        "def names():\n",
        "  firstname = input ('Input first name ')\n",
        "  lastname = input ('Input last name ')\n",
        "  return print (f'{firstname} {lastname}')\n",
        "\n",
        "names()"
      ],
      "execution_count": 0,
      "outputs": [
        {
          "output_type": "stream",
          "text": [
            "Input first nameBob\n",
            "Input last nameMathew\n",
            "Bob Mathew\n"
          ],
          "name": "stdout"
        }
      ]
    },
    {
      "cell_type": "markdown",
      "metadata": {
        "id": "tFsdo4A6Neyn",
        "colab_type": "text"
      },
      "source": [
        "\n",
        "### P3.PY\n"
      ]
    },
    {
      "cell_type": "code",
      "metadata": {
        "id": "DBA7Joa8Neyp",
        "colab_type": "code",
        "outputId": "9bffc422-5f2a-4fd4-f10a-1d61cb963f1c",
        "colab": {
          "base_uri": "https://localhost:8080/",
          "height": 35
        }
      },
      "source": [
        "\"\"\"\n",
        "Function Basics III - Default Arguments\n",
        "\"\"\"\n",
        "\n",
        "# Now write a and call function called \"fave_colors\" that separately intakes a \n",
        "# person's first name, a person's last name, and **optionally** their favorite color.\n",
        "def fave_colors(firstname, lastname, favorite_color=None):\n",
        "  \n",
        "  return print (f'{firstname} {lastname}, {favorite_color}')\n",
        "\n",
        "fave_colors ('bob', 'marley', 'yellow')\n",
        "\n",
        "\n",
        "# The function should create and return a dict with the full name as a key and \n",
        "# the favorite color as the value. If the person does not enter a favorite color, you should assume they have no favorite color and assign theirs to None. Try both use cases.\n",
        "\n"
      ],
      "execution_count": 0,
      "outputs": [
        {
          "output_type": "stream",
          "text": [
            "bob marley, yellow\n"
          ],
          "name": "stdout"
        }
      ]
    },
    {
      "cell_type": "markdown",
      "metadata": {
        "id": "cWqpS8KLNeyz",
        "colab_type": "text"
      },
      "source": [
        "\n",
        "### P4.PY\n"
      ]
    },
    {
      "cell_type": "code",
      "metadata": {
        "id": "WmATxpzvNey0",
        "colab_type": "code",
        "outputId": "bd05980e-75ed-4b54-bdf7-4d89c32ad287",
        "colab": {
          "base_uri": "https://localhost:8080/",
          "height": 70
        }
      },
      "source": [
        "\"\"\"\n",
        "Function Basics IV - Multiple Return Values\n",
        "\"\"\"\n",
        "\n",
        "# Write a and call a function called \"figures\" that takes any two numbers and **individually** returns the following as integers:\n",
        "# their sum\n",
        "# their product\n",
        "# the quotient for num1 / num2\n",
        "\n",
        "def figures (num1, num2):\n",
        "  sum1 = int (num1 + num2)\n",
        "  prod1 = int (num1 * num2)\n",
        "  quot = int (num1 / num2)\n",
        "  return print (f'sum: {sum1}\\nproduct: {prod1}\\nquotient: {quot}')\n",
        "\n",
        "figures (12,3)\n",
        "\n",
        "# \"\"\"Print each value out individually in this format:\n",
        "# (using 12 and 3)\n",
        "# sum: 15\n",
        "# product: 36\n",
        "# quotient: 4\n",
        "# \"\"\"\n",
        "\n"
      ],
      "execution_count": 0,
      "outputs": [
        {
          "output_type": "stream",
          "text": [
            "sum: 15\n",
            "product: 36\n",
            "quotient: 4\n"
          ],
          "name": "stdout"
        }
      ]
    },
    {
      "cell_type": "markdown",
      "metadata": {
        "id": "pqxwEC16Ney2",
        "colab_type": "text"
      },
      "source": [
        "\n",
        "### P5.PY\n"
      ]
    },
    {
      "cell_type": "code",
      "metadata": {
        "id": "i_tVcZ1FNey3",
        "colab_type": "code",
        "outputId": "1a7628d8-c172-43c0-923e-b98dc919dd21",
        "colab": {
          "base_uri": "https://localhost:8080/",
          "height": 52
        }
      },
      "source": [
        "\"\"\"\n",
        "Function Basics V - Indeterminate Arguments\n",
        "\"\"\"\n",
        "\n",
        "# Write a and call a function called \"high_low\" that takes 3 numbers and returns the highest and lowest ones.\n",
        "\n",
        "# My solution:\n",
        "# def high_low (num1,num2,num3):\n",
        "#   lis = [num1,num2,num3]\n",
        "#   a = max (lis)\n",
        "#   b = min (lis)\n",
        "#   return f'max: {a} and min: {b}'\n",
        "\n",
        "# high_low (5,10,15)\n",
        "\n",
        "# Taq's solution:\n",
        "\n",
        "def hi_lo(*args):\n",
        "  print(type(args), args)\n",
        "  return max(args), min(args)\n",
        "\n",
        "h, l = hi_lo(11111,2,3,4,5,231412346,7,8,9,10)\n",
        "print(h,l)\n"
      ],
      "execution_count": 0,
      "outputs": [
        {
          "output_type": "stream",
          "text": [
            "<class 'tuple'> (11111, 2, 3, 4, 5, 231412346, 7, 8, 9, 10)\n",
            "231412346 2\n"
          ],
          "name": "stdout"
        }
      ]
    },
    {
      "cell_type": "markdown",
      "metadata": {
        "id": "1p9TsLXtNey5",
        "colab_type": "text"
      },
      "source": [
        "\n",
        "## DB_SEARCH\n"
      ]
    },
    {
      "cell_type": "markdown",
      "metadata": {
        "id": "W5DLuftkNyog",
        "colab_type": "text"
      },
      "source": [
        "### P1.PY"
      ]
    },
    {
      "cell_type": "code",
      "metadata": {
        "id": "WvU9x79ZNey6",
        "colab_type": "code",
        "outputId": "bf0085d4-cf52-4c9a-a3dc-d374a298333b",
        "colab": {
          "base_uri": "https://localhost:8080/",
          "height": 124
        }
      },
      "source": [
        "\"\"\"\n",
        "GPA Calculator\n",
        "\"\"\"\n",
        "\n",
        "# Write a function called \"simple_gpa\" to find GPA when student enters a letter grade as a string. Assign the result to a variable called \"gpa\".\n",
        "grades ={\n",
        "    'A+': 4.0,\n",
        "    'A': 4.0,\n",
        "    'A-': 3.7,\n",
        "    'B+': 3.3,\n",
        "    'B' : 3.0,\n",
        "    'B-': 2.7,\n",
        "    'C+': 2.3,\n",
        "    'C' : 2.0,\n",
        "    'C-': 1.7,\n",
        "    'D+': 1.3,\n",
        "    'D' : 1.0,\n",
        "    'D-': 0.7,\n",
        "    'F': 0.0\n",
        "    }\n",
        "print (grades)\n",
        "\n",
        "lis =[]\n",
        "def simple_gpa (*args):\n",
        "  \n",
        "  b = [*args]\n",
        "  # print (b)\n",
        "  for k, values in grades.items():\n",
        "    # print (k)\n",
        "    if b.count(k) > 0:\n",
        "      # print (b.count(k))\n",
        "      lis.append (values)\n",
        "  print (f'''\n",
        "  {lis}, \n",
        "  {sum(lis)}, \n",
        "  {len(lis)}''')\n",
        "  return int (sum(lis)/len(lis))\n",
        "  \n",
        "simple_gpa ('A', 'B', 'D')\n",
        "\n",
        "# \"\"\"\n",
        "# Use these conversions:\n",
        "# A+ --> 4.0\n",
        "# A --> 4.0\n",
        "# A- --> 3.7\n",
        "# B+ --> 3.3\n",
        "# B --> 3.0\n",
        "# B- --> 2.7\n",
        "# C+ --> 2.3\n",
        "# C --> 2.0\n",
        "# C- --> 1.7\n",
        "# D+ --> 1.3\n",
        "# D --> 1.0\n",
        "# D- --> 0.7\n",
        "# F --> 0.0\n",
        "# \"\"\"\n",
        "\n"
      ],
      "execution_count": 0,
      "outputs": [
        {
          "output_type": "stream",
          "text": [
            "{'A+': 4.0, 'A': 4.0, 'A-': 3.7, 'B+': 3.3, 'B': 3.0, 'B-': 2.7, 'C+': 2.3, 'C': 2.0, 'C-': 1.7, 'D+': 1.3, 'D': 1.0, 'D-': 0.7, 'F': 0.0}\n",
            "\n",
            "  [4.0, 3.0, 1.0], \n",
            "  8.0, \n",
            "  3\n"
          ],
          "name": "stdout"
        },
        {
          "output_type": "execute_result",
          "data": {
            "text/plain": [
              "2"
            ]
          },
          "metadata": {
            "tags": []
          },
          "execution_count": 75
        }
      ]
    },
    {
      "cell_type": "code",
      "metadata": {
        "id": "ZcMga_5c2N9W",
        "colab_type": "code",
        "outputId": "46a7a007-cd01-42b7-d2b0-0b98d6374a30",
        "colab": {
          "base_uri": "https://localhost:8080/",
          "height": 35
        }
      },
      "source": [
        " a = [1,2,3,4]\n",
        " d =[]\n",
        "if a.count (1)>0:\n",
        "  d.append (1)\n",
        "if a.count(2)>0:\n",
        "  d.append (2)\n",
        "print (d)"
      ],
      "execution_count": 0,
      "outputs": [
        {
          "output_type": "stream",
          "text": [
            "[1, 2]\n"
          ],
          "name": "stdout"
        }
      ]
    },
    {
      "cell_type": "markdown",
      "metadata": {
        "id": "XJfdr65oNey8",
        "colab_type": "text"
      },
      "source": [
        "\n",
        "### P2.PY\n",
        "\n"
      ]
    },
    {
      "cell_type": "code",
      "metadata": {
        "id": "STG3hDMhNey9",
        "colab_type": "code",
        "outputId": "cc791b75-141f-448f-e38f-19be72914803",
        "colab": {
          "base_uri": "https://localhost:8080/",
          "height": 381
        }
      },
      "source": [
        "\"\"\"\n",
        "RGB to HEX\n",
        "\"\"\"\n",
        "\n",
        "# Write a and call a function called \"rgb_hex\" that takes a parameter called \"color.\"\n",
        "#  The function should be able to intake a color in rgb format and return it in hex\n",
        "#  format as well as vice versa. A sample of color conversions are below. Write \n",
        "# in logic so the function can interpret rgb and hex colors entered in different\n",
        "#  formats such as \"rgb_hex((255,255,255))\" or \"rgb_hex('ffffff')\". Also make sure to account for someone inputting a color not in the database.\n",
        "\n",
        "color_conversions = {\n",
        "'#4286f4': 'rgb(66, 134, 244)',\n",
        "'#5905c6': 'rgb(89, 5, 198)',\n",
        "'#fce702': 'rgb(252, 231, 2)',\n",
        "'#ffffff': 'rgb(255, 255, 255)',\n",
        "'#000000': 'rgb(0, 0, 0)',\n",
        "'#0ac913': 'rgb(10, 201, 19)',\n",
        "'#65c672': 'rgb(101, 198, 114)',\n",
        "'#f8d6ff': 'rgb(248, 214, 255)',\n",
        "'#b70782': 'rgb(183, 7, 130)',\n",
        "'#001184': 'rgb(0, 17, 132)',\n",
        "'#495eed': 'rgb(73, 94, 237)',\n",
        "'#b7ffb8': 'rgb(183, 255, 184)',\n",
        "'#ffbf00': 'rgb(255, 191, 0)',\n",
        "'#7a020e': 'rgb(122, 2, 14)',\n",
        "'#ff5e6e': 'rgb(255, 94, 110)',\n",
        "'#22003d': 'rgb(34, 0, 61)'\n",
        "}\n",
        "\n",
        "\n",
        "def rgb_hex(hex_color: str) -> str:\n",
        "#   if not isinstance(hex_color, str):\n",
        "#     raise Exception(f\"hex_color {hex_color} must be string\")\n",
        "\n",
        "#   if len(hex_color) == 6:\n",
        "#     hex_color = \"#\" + hex_color\n",
        "#   elif len(hex_color) < 6:\n",
        "#     raise Exception(\"Invalid hex color length\")\n",
        "  \n",
        "  rgb_color = color_conversions[hex_color]\n",
        "  return rgb_color\n",
        "\n",
        "def hex_rgb(rgb_color: str) -> str:\n",
        "  a = print(f'rgb('+rgb_color+')')\n",
        "  hex_color = color_conversions[a]\n",
        "  print (hex_color)\n",
        "  return hex_color\n",
        "\n",
        "output = hex_rgb(\"73, 94, 237\")\n",
        "print(output)\n",
        "\n",
        "\n"
      ],
      "execution_count": 0,
      "outputs": [
        {
          "output_type": "stream",
          "text": [
            "rgb(73, 94, 237)\n"
          ],
          "name": "stdout"
        },
        {
          "output_type": "error",
          "ename": "KeyError",
          "evalue": "ignored",
          "traceback": [
            "\u001b[0;31m---------------------------------------------------------------------------\u001b[0m",
            "\u001b[0;31mKeyError\u001b[0m                                  Traceback (most recent call last)",
            "\u001b[0;32m<ipython-input-6-e63629154713>\u001b[0m in \u001b[0;36m<module>\u001b[0;34m()\u001b[0m\n\u001b[1;32m     47\u001b[0m   \u001b[0;32mreturn\u001b[0m \u001b[0mhex_color\u001b[0m\u001b[0;34m\u001b[0m\u001b[0;34m\u001b[0m\u001b[0m\n\u001b[1;32m     48\u001b[0m \u001b[0;34m\u001b[0m\u001b[0m\n\u001b[0;32m---> 49\u001b[0;31m \u001b[0moutput\u001b[0m \u001b[0;34m=\u001b[0m \u001b[0mhex_rgb\u001b[0m\u001b[0;34m(\u001b[0m\u001b[0;34m\"73, 94, 237\"\u001b[0m\u001b[0;34m)\u001b[0m\u001b[0;34m\u001b[0m\u001b[0;34m\u001b[0m\u001b[0m\n\u001b[0m\u001b[1;32m     50\u001b[0m \u001b[0mprint\u001b[0m\u001b[0;34m(\u001b[0m\u001b[0moutput\u001b[0m\u001b[0;34m)\u001b[0m\u001b[0;34m\u001b[0m\u001b[0;34m\u001b[0m\u001b[0m\n\u001b[1;32m     51\u001b[0m \u001b[0;34m\u001b[0m\u001b[0m\n",
            "\u001b[0;32m<ipython-input-6-e63629154713>\u001b[0m in \u001b[0;36mhex_rgb\u001b[0;34m(rgb_color)\u001b[0m\n\u001b[1;32m     43\u001b[0m \u001b[0;32mdef\u001b[0m \u001b[0mhex_rgb\u001b[0m\u001b[0;34m(\u001b[0m\u001b[0mrgb_color\u001b[0m\u001b[0;34m:\u001b[0m \u001b[0mstr\u001b[0m\u001b[0;34m)\u001b[0m \u001b[0;34m->\u001b[0m \u001b[0mstr\u001b[0m\u001b[0;34m:\u001b[0m\u001b[0;34m\u001b[0m\u001b[0;34m\u001b[0m\u001b[0m\n\u001b[1;32m     44\u001b[0m   \u001b[0ma\u001b[0m \u001b[0;34m=\u001b[0m \u001b[0mprint\u001b[0m\u001b[0;34m(\u001b[0m\u001b[0;34mf'rgb('\u001b[0m\u001b[0;34m+\u001b[0m\u001b[0mrgb_color\u001b[0m\u001b[0;34m+\u001b[0m\u001b[0;34m')'\u001b[0m\u001b[0;34m)\u001b[0m\u001b[0;34m\u001b[0m\u001b[0;34m\u001b[0m\u001b[0m\n\u001b[0;32m---> 45\u001b[0;31m   \u001b[0mhex_color\u001b[0m \u001b[0;34m=\u001b[0m \u001b[0mcolor_conversions\u001b[0m\u001b[0;34m[\u001b[0m\u001b[0ma\u001b[0m\u001b[0;34m]\u001b[0m\u001b[0;34m\u001b[0m\u001b[0;34m\u001b[0m\u001b[0m\n\u001b[0m\u001b[1;32m     46\u001b[0m   \u001b[0mprint\u001b[0m \u001b[0;34m(\u001b[0m\u001b[0mhex_color\u001b[0m\u001b[0;34m)\u001b[0m\u001b[0;34m\u001b[0m\u001b[0;34m\u001b[0m\u001b[0m\n\u001b[1;32m     47\u001b[0m   \u001b[0;32mreturn\u001b[0m \u001b[0mhex_color\u001b[0m\u001b[0;34m\u001b[0m\u001b[0;34m\u001b[0m\u001b[0m\n",
            "\u001b[0;31mKeyError\u001b[0m: None"
          ]
        }
      ]
    },
    {
      "cell_type": "markdown",
      "metadata": {
        "id": "AQVD0N7BNezC",
        "colab_type": "text"
      },
      "source": [
        "\n",
        "\n",
        "## MATH\n",
        "\n",
        "\n"
      ]
    },
    {
      "cell_type": "markdown",
      "metadata": {
        "id": "bmEK7PmRN1Fu",
        "colab_type": "text"
      },
      "source": [
        "### P1.PY"
      ]
    },
    {
      "cell_type": "code",
      "metadata": {
        "id": "oMKX0HrfNezD",
        "colab_type": "code",
        "outputId": "d055deda-0f49-4201-ada4-85f30029ea19",
        "colab": {
          "base_uri": "https://localhost:8080/",
          "height": 52
        }
      },
      "source": [
        "\"\"\"\n",
        "Simple Interest Calculator\n",
        "\"\"\"\n",
        "\n",
        "# Write a function called \"simple_interest\" that will allow a user to find out\n",
        "#  how much they will have in savings based on their current funds and an interest rate. \n",
        "# (Instead of collecting user input, you can directly pass values of your choosing for the arguments.)\n",
        "\n",
        "# The formula for simple interest is...\n",
        "# A = P(1 + rt), where...\n",
        "# P = principal amount of money\n",
        "# r = interest rate\n",
        "# t = number of time periods the principal will earn interest\n",
        "\n",
        "def simple_interest(P,r,t):\n",
        "  \n",
        "  A = int (P*((1 + r/100)**t))\n",
        "  print (A)\n",
        "  savings = A - P\n",
        "  return savings, A\n",
        "\n",
        "simple_interest (100, 5, 3)\n"
      ],
      "execution_count": 0,
      "outputs": [
        {
          "output_type": "stream",
          "text": [
            "115\n"
          ],
          "name": "stdout"
        },
        {
          "output_type": "execute_result",
          "data": {
            "text/plain": [
              "(15, 115)"
            ]
          },
          "metadata": {
            "tags": []
          },
          "execution_count": 26
        }
      ]
    },
    {
      "cell_type": "markdown",
      "metadata": {
        "id": "7ScSNwjINezF",
        "colab_type": "text"
      },
      "source": [
        "\n",
        "\n",
        "### P2.PY\n",
        "\n",
        "\n"
      ]
    },
    {
      "cell_type": "code",
      "metadata": {
        "id": "YwFx8wHsNezG",
        "colab_type": "code",
        "outputId": "40b29f73-3ad1-459e-8c63-b4095326c79d",
        "colab": {
          "base_uri": "https://localhost:8080/",
          "height": 35
        }
      },
      "source": [
        "\"\"\"\n",
        "Permutations & Combinations\n",
        "\"\"\"\n",
        "\n",
        "# Create two functions:\n",
        "\t# One called \"perms\", which outputs the **number** of possible **permutations**\n",
        "\t#  of rolling two 6-sided dice and assign it to a variable called \"permutations\".\n",
        "\t# One called \"combs\", which outputs the **number** of possible **combinations** \n",
        "\t# of rolling two 6-sided dice and assigns it to a variable called \"combinations\".\n",
        "\t# Hint: The formulas for these are below, where n is the number of possible \n",
        "\t# outcomes for one trial and r is the number of outcomes you will pick at a time.\n",
        "\t#  The contextual difference is that order matters for permutations, meaning the\n",
        "\t#  same two numbers in a different order count as two unique permutations. For combinations, the order doesn't matter.\n",
        "\n",
        "# permutation formula = n! / (n-r)!\n",
        "# combination formula = n! / (nâr)!r!\n",
        "\n"
      ],
      "execution_count": 0,
      "outputs": [
        {
          "output_type": "execute_result",
          "data": {
            "text/plain": [
              "'\\nPermutations & Combinations\\n'"
            ]
          },
          "metadata": {
            "tags": []
          },
          "execution_count": 7
        }
      ]
    },
    {
      "cell_type": "markdown",
      "metadata": {
        "id": "7bTNjBy_NezI",
        "colab_type": "text"
      },
      "source": [
        "\n",
        "\n",
        "### P3.PY\n",
        "\n",
        "\n"
      ]
    },
    {
      "cell_type": "code",
      "metadata": {
        "id": "NC2JU5p1NezI",
        "colab_type": "code",
        "outputId": "3cb46144-7ae1-4a79-b3b9-a80b74a3ed0f",
        "colab": {
          "base_uri": "https://localhost:8080/",
          "height": 52
        }
      },
      "source": [
        "\"\"\"\n",
        "Multiples\n",
        "\"\"\"\n",
        "\n",
        "# Write a function called \"sum_multiples\" that take two numbers and returns the\n",
        "#  sum of their multiples between 0 and some limit. These three items should be generalized as parameters.\n",
        "\n",
        "def sum_multiples (num1,num2,limit):\n",
        "  a = num1*num2\n",
        " \n",
        "  multiples = [1]\n",
        "  for i in range(1,limit+1): \n",
        "    if i % 2 == 0:\n",
        "      multiples.append(i)\n",
        "      continue\n",
        "    if i % 3 == 0:\n",
        "      multiples.append(i)\n",
        "      continue\n",
        "    if i % 5 == 0:\n",
        "      multiples.append(i)\n",
        "      continue\n",
        "    if i % 7 == 0:\n",
        "      multiples.append(i)\n",
        "      continue\n",
        "\n",
        "  return print (f'{multiples}\\n {sum(multiples)}')\n",
        "\n",
        "sum_multiples (2,5,8)\n",
        "\n",
        "\n",
        "# def sum_multiples (num1, num2, limit):\n",
        "  \n"
      ],
      "execution_count": 0,
      "outputs": [
        {
          "output_type": "stream",
          "text": [
            "[1, 2, 3, 4, 5, 6, 7, 8]\n",
            " 36\n"
          ],
          "name": "stdout"
        }
      ]
    },
    {
      "cell_type": "markdown",
      "metadata": {
        "id": "ARbsmw_mNezL",
        "colab_type": "text"
      },
      "source": [
        "## DATA_MANIPULATION\n",
        "\n",
        "\n"
      ]
    },
    {
      "cell_type": "markdown",
      "metadata": {
        "id": "wTd0ZSSeN4Y8",
        "colab_type": "text"
      },
      "source": [
        "### P1.PY"
      ]
    },
    {
      "cell_type": "code",
      "metadata": {
        "id": "iUq-vFf2NezM",
        "colab_type": "code",
        "outputId": "1dd29dc4-d8a6-47ad-ce83-27b46fa9f359",
        "colab": {
          "base_uri": "https://localhost:8080/",
          "height": 55
        }
      },
      "source": [
        "\"\"\"\n",
        "File Organization\n",
        "\"\"\"\n",
        "\n",
        "# The dict \"files\" below contains file names and the name of the person who owns\n",
        "# each file. Write and call a function to reorganize \"files\" such that it contains\n",
        "# each person's name and the files he/she owns. Assign the resultant dict to a new\n",
        "#  dict called \"grouped_by_owner\". Print out the key value pairs in this format - key: value.\n",
        "\n",
        "# Function name should be: group_by_owners\n",
        "# Dict of results should be named: files_by_owner\n",
        "\n",
        "files = {\n",
        "  'Input1.txt': 'Beau',\n",
        "  'Code1.py': 'Mischa',\n",
        "  'Output1.txt': 'Beau',\n",
        "  'Input2.txt': 'Beau',\n",
        "  'Code2.py': 'Mischa',\n",
        "  'Output2.txt': 'Beau',\n",
        "  'Input3.txt': 'Percy',\n",
        "  'Code3.py': 'Alejandra',\n",
        "  'Output3.txt': 'Percy'\n",
        "}\n",
        "\n",
        "\n",
        "# def group_by_owners (files):\n",
        "#   reversing = dict(map(reversed,files.items()))\n",
        "# print (reversing)\n",
        "\n",
        "groups ={}\n",
        "def group_by_owners() -> dict:\n",
        "  for filename, owner in files.items():\n",
        "    if owner not in groups:\n",
        "      groups[owner]=[]  \n",
        "      groups[owner].append (filename)\n",
        "    else:\n",
        "           \n",
        "      groups[owner].append (filename)\n",
        "  return groups\n",
        "\n",
        "print (group_by_owners())\n",
        "\n",
        "  \n",
        "  # create an empty dict, call it groups = {}\n",
        "  # iterate through your dictionary (so for filename, owner in files.items())\n",
        "  # for each iteration, check to see if owner is in groups\n",
        "  # if not, create a key in groups for owner: groups[owner] = []\n",
        "  # then, just append the filename to the groups[owner]\n",
        "  \n",
        "#   return {\"Beau\": [\"Input1.txt\", \"Output1.txt\", \"Output2.txt\"]}\n",
        "\n",
        "# output_dict = group_by_owners()\n",
        "\n",
        "# print(output_dict)\n"
      ],
      "execution_count": 0,
      "outputs": [
        {
          "output_type": "stream",
          "text": [
            "{'Beau': ['Input1.txt', 'Output1.txt', 'Input2.txt', 'Output2.txt'], 'Mischa': ['Code1.py', 'Code2.py'], 'Percy': ['Input3.txt', 'Output3.txt'], 'Alejandra': ['Code3.py']}\n"
          ],
          "name": "stdout"
        }
      ]
    },
    {
      "cell_type": "markdown",
      "metadata": {
        "id": "-7KFDG5lNezO",
        "colab_type": "text"
      },
      "source": [
        "\n",
        "\n",
        "### P2.PY\n",
        "\n",
        "\n"
      ]
    },
    {
      "cell_type": "code",
      "metadata": {
        "id": "S5e9s-njNezP",
        "colab_type": "code",
        "outputId": "cb7f6dee-a108-4cc9-aad9-64537dd6c929",
        "colab": {
          "base_uri": "https://localhost:8080/",
          "height": 126
        }
      },
      "source": [
        "\"\"\"\n",
        "Clean Pairs\n",
        "\"\"\"\n",
        "\n",
        "# Below is a list of common food pairings. Write a function called \"cleaner\" that\n",
        "#  cleans the data such that each list item is a tuple (e.g. ('Milk', 'Cookies')). Assign the results to a variable called \"clean_pairs\".\n",
        "\n",
        "pairs = [('Milk', 'Cookies'), ('Peanut Butter - Jelly',), ('Spaghetti & Meatballs',), ('Eggs', 'Bacon',), ('Pancakes & Syrup',), ('Chicken - Waffles',), ('Peas', 'Carrots')]\n",
        "\n",
        "clean_pairs = []\n",
        "\n",
        "for item in pairs:\n",
        "\n",
        "  if len(item) == 2:\n",
        "    clean_pairs.append(item)\n",
        "    continue  \n",
        "  if '-' in item[0]:\n",
        "    a = tuple (item [0].split ('-'))\n",
        "    print (a)\n",
        "    clean_pairs.append(a)\n",
        "    continue\n",
        "  if '&' in item[0]:\n",
        "    a = tuple (item [0].split ('&'))\n",
        "    print (a)\n",
        "    clean_pairs.append(a)\n",
        "\n",
        "print(clean_pairs)\n",
        "\n",
        "\n",
        "\n"
      ],
      "execution_count": 0,
      "outputs": [
        {
          "output_type": "stream",
          "text": [
            "('Peanut Butter ', ' Jelly')\n",
            "('Spaghetti ', ' Meatballs')\n",
            "('Pancakes ', ' Syrup')\n",
            "('Chicken ', ' Waffles')\n",
            "[('Milk', 'Cookies'), ('Peanut Butter ', ' Jelly'), ('Spaghetti ', ' Meatballs'), ('Eggs', 'Bacon'), ('Pancakes ', ' Syrup'), ('Chicken ', ' Waffles'), ('Peas', 'Carrots')]\n"
          ],
          "name": "stdout"
        }
      ]
    },
    {
      "cell_type": "markdown",
      "metadata": {
        "id": "E39dQ-pONezT",
        "colab_type": "text"
      },
      "source": [
        "\n",
        "\n",
        "### P3.PY\n",
        "\n",
        "\n"
      ]
    },
    {
      "cell_type": "code",
      "metadata": {
        "id": "B1_1WIYcJPvn",
        "colab_type": "code",
        "outputId": "f69c49f4-c445-40c2-ebe9-97d53379a3fe",
        "colab": {
          "base_uri": "https://localhost:8080/",
          "height": 52
        }
      },
      "source": [
        "\n",
        "letters = ['j', 'u', 'l', 'i', 'a', 'n', 'n', 'a']\n",
        "name = ''.join(letters)\n",
        "print(name) # 'julianna'\n",
        " \n",
        "words = ['this', 'is', 'fun']\n",
        "sentence = ' '.join(words)\n",
        "print(f'{sentence}.') # 'this is fun.'\n",
        "\n",
        "x = 'this is fun'\n",
        "sentence = x.split() # note - using default split char at space\n",
        "print(sentence) # ['this', 'is', 'fun']\n",
        " \n",
        "y = 'Sandra,hi@email.com,646-212-1234,8 Cherry Lane,Splitsville,FL,58028'\n",
        "data = y.split(',')\n",
        "print(data) # ['S\n"
      ],
      "execution_count": 0,
      "outputs": [
        {
          "output_type": "stream",
          "text": [
            "julianna\n",
            "this is fun.\n"
          ],
          "name": "stdout"
        }
      ]
    },
    {
      "cell_type": "code",
      "metadata": {
        "id": "zj4xnNpOINwR",
        "colab_type": "code",
        "outputId": "f6f1f9cd-7e13-4e0b-d4f9-9091ed8bccf1",
        "colab": {
          "base_uri": "https://localhost:8080/",
          "height": 52
        }
      },
      "source": [
        "class Circle:\n",
        "  pi = 3.14159\n",
        "  def __init__(self, radius):\n",
        "    self.r = radius\n",
        "    self.circumference = 2 * self.r * self.pi \n",
        "  def get_circumf(self):\n",
        "    return self.circumference\n",
        "  def circle_area(self):\n",
        "    self.area = self.pi * self.r * self.r\n",
        "    return self.area\n",
        "  \n",
        "c1 = Circle(1)\n",
        "c2 = Circle(10)\n",
        "print(c1.get_circumf())\n",
        "print(c1.circle_area())"
      ],
      "execution_count": 0,
      "outputs": [
        {
          "output_type": "stream",
          "text": [
            "6.28318\n",
            "3.14159\n"
          ],
          "name": "stdout"
        }
      ]
    },
    {
      "cell_type": "code",
      "metadata": {
        "id": "b6qFJuFfNezT",
        "colab_type": "code",
        "colab": {}
      },
      "source": [
        "\"\"\"\n",
        "Password Requirements\n",
        "\"\"\"\n",
        "\n",
        "# Write a Python program called \"pw_validator\" to validate a password based on the security requirements outlined below.\n",
        "\n",
        "# VALIDATION REQUIREMENTS:\n",
        "## At least 1 lowercase letter [a-z]\n",
        "## At least 1 uppercase letter [A-Z].\n",
        "## At least 1 number [0-9].\n",
        "## At least 1 special character [~!@#$%&*].\n",
        "## Min length 6 characters.\n",
        "## Max length 16 characters.\n",
        "\n",
        "letters = 'abcdefghijklmnopqrstuvwxyz'\n",
        "letters_cap = letters.upper()\n",
        "\n",
        "pw = \"hi1232145\"\n",
        "found_lower_case = False\n",
        "for character in pw:\n",
        "  if character in letters:\n",
        "    found_lower_case = True\n",
        "    break\n",
        "\n",
        "if not found_lower_case:\n",
        "  print('no valid')\n"
      ],
      "execution_count": 0,
      "outputs": []
    },
    {
      "cell_type": "code",
      "metadata": {
        "id": "5VBiHB-3NLCL",
        "colab_type": "code",
        "colab": {}
      },
      "source": [
        "capitalized = []\n",
        "for item in range(97, 123):\n",
        "  chars.append(chr(item))\n",
        "  capitalized.append(chr(item).upper())\n",
        "\n",
        "print(chars, capitalized)"
      ],
      "execution_count": 0,
      "outputs": []
    },
    {
      "cell_type": "markdown",
      "metadata": {
        "id": "X8kPjts_NezV",
        "colab_type": "text"
      },
      "source": [
        "\n",
        "\n",
        "### P4.PY\n",
        "\n",
        "\n"
      ]
    },
    {
      "cell_type": "code",
      "metadata": {
        "id": "AucIC9Z8NezW",
        "colab_type": "code",
        "outputId": "59dec17b-a831-44e2-feb0-b0f8e2a3748d",
        "colab": {
          "base_uri": "https://localhost:8080/",
          "height": 35
        }
      },
      "source": [
        "\"\"\"\n",
        "Rainbows & Wobniars\n",
        "\"\"\"\n",
        "\n",
        "# Write a function called \"wobniar\", which should contain the local variable \"rainbow\" below.\n",
        "#  The function should collect every other color of the rainbow starting at index 0 and add \n",
        "# each one to a new list. When you add each color, it should be spelled backwards. For example, \n",
        "# the word 'sing' would be added to the new list as 'gnis'. Return and print the list.\n",
        "\n",
        "colors = ['yellow', 'red', 'blue', 'green', 'black', 'orange']\n",
        "# def wobniar() ->dict:\n",
        "colors.sort()\n",
        "rainbow =[]\n",
        "def reverse(color):\n",
        "  \n",
        "  str = \"\"\n",
        "  for i in item:\n",
        "    str = i + str\n",
        "  \n",
        "  return str\n",
        "for item in colors:\n",
        "  a = reverse(item)\n",
        "  rainbow.append (a)\n",
        "  \n",
        "print (rainbow)\n",
        "\n",
        "\n",
        "\n"
      ],
      "execution_count": 0,
      "outputs": [
        {
          "output_type": "stream",
          "text": [
            "['kcalb', 'eulb', 'neerg', 'egnaro', 'der', 'wolley']\n"
          ],
          "name": "stdout"
        }
      ]
    },
    {
      "cell_type": "code",
      "metadata": {
        "id": "Q-IQrm_dQvyd",
        "colab_type": "code",
        "outputId": "63c89019-3588-4184-9921-afab8dda2350",
        "colab": {
          "base_uri": "https://localhost:8080/",
          "height": 141
        }
      },
      "source": [
        "def reverse(s):\n",
        "  str = \"\"\n",
        "  for i in s:\n",
        "    str = i + str\n",
        "    print (str)\n",
        "  return str\n",
        "reverse ('yellow')"
      ],
      "execution_count": 0,
      "outputs": [
        {
          "output_type": "stream",
          "text": [
            "y\n",
            "ey\n",
            "ley\n",
            "lley\n",
            "olley\n",
            "wolley\n"
          ],
          "name": "stdout"
        },
        {
          "output_type": "execute_result",
          "data": {
            "text/plain": [
              "'wolley'"
            ]
          },
          "metadata": {
            "tags": []
          },
          "execution_count": 138
        }
      ]
    },
    {
      "cell_type": "markdown",
      "metadata": {
        "id": "4gyJyWF1Nezc",
        "colab_type": "text"
      },
      "source": [
        "\n",
        "\n",
        "### P5.PY\n",
        "\n",
        "\n"
      ]
    },
    {
      "cell_type": "code",
      "metadata": {
        "id": "aW8b7Bk_Neze",
        "colab_type": "code",
        "outputId": "2d6ed52c-da6c-406b-bc4f-c1f6a542e581",
        "colab": {
          "base_uri": "https://localhost:8080/",
          "height": 238
        }
      },
      "source": [
        "\"\"\"\n",
        "Speeding Tickets\n",
        "\"\"\"\n",
        "\n",
        "# Imagine you're a cop waiting on the side of the road to pick up speeders. \n",
        "# Write a function called \"speeders\" to check the speed of drivers and record their license plate numbers.\n",
        "## If speed is less than or equal 70 (mph), it should print \"Good\". \n",
        "## If the speed is greater than 70, find the license plate number of that driver\n",
        "#  in your \"driver_points\" dict (see below) and add a point to their license for every 5 full mph above the speed limit.\n",
        "## If at any point that driver has 12 or more points on his/her license, print \"License Suspended\".\n",
        "## Call the function on each driver in the \"passing_cars\" dict below to see difference use cases work.\n",
        "\n",
        "# p.s. Feel free to move these around in your code as needed.\n",
        "passing_cars = { # license plate nums & speed\n",
        "  '4GRONPH': 68,\n",
        "  'OJGL6WD': 82,\n",
        "  'Q5517FA': 70,\n",
        "  'S0PNWEJ': 95,\n",
        "  'RM23RXC': 64,\n",
        "  'KH5TH8D': 100,\n",
        "  'IHEHJ4P': 67,\n",
        "  'SVK90LT': 73,\n",
        "  'LJSV4N1': 88,\n",
        "  'KDRLGXM': 91\n",
        "}\n",
        "\n",
        "driver_points = { # license plate nums & points\n",
        "  '4GRONPH': 8,\n",
        "  'OJGL6WD': 12,\n",
        "  'Q5517FA': 1,\n",
        "  'S0PNWEJ': 2,\n",
        "  'RM23RXC': 6,\n",
        "  'KH5TH8D': 7,\n",
        "  'IHEHJ4P': 10,\n",
        "  'SVK90LT': 5,\n",
        "  'LJSV4N1': 3,\n",
        "  'KDRLGXM': 9\n",
        "  }\n",
        "\n",
        "b = {}\n",
        "def speeders(dict_of_passing_cars):\n",
        "  for licence, speed in passing_cars.items():\n",
        "   if speed > 70:\n",
        "     a = int ((int (speed) - 70) / 5)\n",
        "     b.update ({licence:a})\n",
        "     speeders = b\n",
        "  return speeders\n",
        "speeders (passing_cars)\n",
        "\n",
        "d = {} \n",
        "d.update (speeders)\n",
        "for values, keys in d.items():\n",
        "  print (values)\n",
        "  # for keys, values in driver_points.items():\n",
        "    \n",
        "\n",
        "      # print (passing_cars [driver])\n",
        "\n",
        "\n",
        "# input:\n",
        "\n",
        "\n",
        "  # for licence, speed in passing_cars.items():\n",
        "    \n",
        "  #     if speed > 70:\n",
        "    # print (passing_cars [driver])\n",
        "#         a = int ((int (speed) - 70) / 5)\n",
        "\n",
        "#         b.update ({licence:a})\n",
        "#         speeders = b\n",
        "#       return speeders\n",
        "# print (speeders)\n",
        "   \n",
        "    # for keys, values in driver_points.items():\n",
        "    # # print (driver, keys)\n",
        "    #   if driver == keys:\n",
        "    #     print (f'{driver}, {driver_points [keys]}, {a}')\n",
        "    #     driver_points [key] = (driver_points[key] + a)\n",
        "    #     print (driver_points)\n",
        "    # if licence == driver_points [key]:\n",
        "      \n",
        "      # driver_points [key] = (driver_points[key] + a)\n",
        "\n",
        "    # print (driver_points)\n",
        "    # for key, points in driver_points.items():\n",
        "    #   # b = driver_points[key]\n",
        "    #   # c =  b + a\n",
        "     \n"
      ],
      "execution_count": 0,
      "outputs": [
        {
          "output_type": "error",
          "ename": "TypeError",
          "evalue": "ignored",
          "traceback": [
            "\u001b[0;31m---------------------------------------------------------------------------\u001b[0m",
            "\u001b[0;31mTypeError\u001b[0m                                 Traceback (most recent call last)",
            "\u001b[0;32m<ipython-input-70-b097286d73e4>\u001b[0m in \u001b[0;36m<module>\u001b[0;34m()\u001b[0m\n\u001b[1;32m     49\u001b[0m \u001b[0;34m\u001b[0m\u001b[0m\n\u001b[1;32m     50\u001b[0m \u001b[0md\u001b[0m \u001b[0;34m=\u001b[0m \u001b[0;34m{\u001b[0m\u001b[0;34m}\u001b[0m\u001b[0;34m\u001b[0m\u001b[0;34m\u001b[0m\u001b[0m\n\u001b[0;32m---> 51\u001b[0;31m \u001b[0md\u001b[0m\u001b[0;34m.\u001b[0m\u001b[0mupdate\u001b[0m \u001b[0;34m(\u001b[0m\u001b[0mspeeders\u001b[0m\u001b[0;34m)\u001b[0m\u001b[0;34m\u001b[0m\u001b[0;34m\u001b[0m\u001b[0m\n\u001b[0m\u001b[1;32m     52\u001b[0m \u001b[0;32mfor\u001b[0m \u001b[0mvalues\u001b[0m\u001b[0;34m,\u001b[0m \u001b[0mkeys\u001b[0m \u001b[0;32min\u001b[0m \u001b[0md\u001b[0m\u001b[0;34m.\u001b[0m\u001b[0mitems\u001b[0m\u001b[0;34m(\u001b[0m\u001b[0;34m)\u001b[0m\u001b[0;34m:\u001b[0m\u001b[0;34m\u001b[0m\u001b[0;34m\u001b[0m\u001b[0m\n\u001b[1;32m     53\u001b[0m   \u001b[0mprint\u001b[0m \u001b[0;34m(\u001b[0m\u001b[0mvalues\u001b[0m\u001b[0;34m)\u001b[0m\u001b[0;34m\u001b[0m\u001b[0;34m\u001b[0m\u001b[0m\n",
            "\u001b[0;31mTypeError\u001b[0m: 'function' object is not iterable"
          ]
        }
      ]
    },
    {
      "cell_type": "code",
      "metadata": {
        "id": "S4JXDuXAqiAO",
        "colab_type": "code",
        "outputId": "0e739729-cd01-4a15-8891-f5ee85b92bcc",
        "colab": {
          "base_uri": "https://localhost:8080/",
          "height": 35
        }
      },
      "source": [
        "def process_dict(some_dict):\n",
        "  print(some_dict)\n",
        "\n",
        "process_dict({'a': 1,'b':2,})\n"
      ],
      "execution_count": 0,
      "outputs": [
        {
          "output_type": "stream",
          "text": [
            "{'a': 1, 'b': 2}\n"
          ],
          "name": "stdout"
        }
      ]
    }
  ]
}