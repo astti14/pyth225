{
  "nbformat": 4,
  "nbformat_minor": 0,
  "metadata": {
    "colab": {
      "name": "HW_Asta Galinyte lists_psets.ipynb",
      "provenance": [],
      "collapsed_sections": [],
      "include_colab_link": true
    },
    "kernelspec": {
      "name": "python3",
      "display_name": "Python 3"
    }
  },
  "cells": [
    {
      "cell_type": "markdown",
      "metadata": {
        "id": "view-in-github",
        "colab_type": "text"
      },
      "source": [
        "<a href=\"https://colab.research.google.com/github/astti14/pyth225/blob/master/HW_Asta_Galinyte_lists_psets.ipynb\" target=\"_parent\"><img src=\"https://colab.research.google.com/assets/colab-badge.svg\" alt=\"Open In Colab\"/></a>"
      ]
    },
    {
      "cell_type": "markdown",
      "metadata": {
        "id": "Yr_KNJCvVI_l",
        "colab_type": "text"
      },
      "source": [
        "#  LISTS"
      ]
    },
    {
      "cell_type": "markdown",
      "metadata": {
        "id": "wnygsOhDVRof",
        "colab_type": "text"
      },
      "source": [
        "## LIST OPS"
      ]
    },
    {
      "cell_type": "markdown",
      "metadata": {
        "id": "3YuVvl6vVSvP",
        "colab_type": "text"
      },
      "source": [
        "### P1.PY"
      ]
    },
    {
      "cell_type": "code",
      "metadata": {
        "id": "Ir33rYgDVI_m",
        "colab_type": "code",
        "outputId": "3ac7a6c4-2c64-4a7b-b44e-73f81ac92897",
        "colab": {
          "base_uri": "https://localhost:8080/",
          "height": 119
        }
      },
      "source": [
        "\"\"\"\n",
        "Basic List Operations I\n",
        "\"\"\"\n",
        "\n",
        "# Create a list including these five animals - elephant, tiger, otter, orangutan, and penguin.\n",
        "lis = ['elephant', 'tiger', 'otter', 'orangutan', 'penguin']\n",
        "print (lis)\n",
        "  #       0           1         2        3            4\n",
        "# Print the 4th animal on the list.\n",
        "print (lis[3])\n",
        "\n",
        "# Add 'tortoise' to the beginning of the list.\n",
        "\n",
        "new_animal = ('tortoise')\n",
        "lis.append(new_animal)\n",
        "# print(lis1)\n",
        "\n",
        "lis.insert (0,'tortoise')\n",
        "print (lis)\n",
        "# Print the length of the list.\n",
        "print(len(lis))\n",
        "\n",
        "# Remove 'orangutan' from the list.\n",
        "lis.pop(4)\n",
        "print(lis)\n",
        "\n",
        "lis[0]=('')\n",
        "print(lis)\n",
        "# Sort the list alphabetically and print it out.\n"
      ],
      "execution_count": 0,
      "outputs": [
        {
          "output_type": "stream",
          "text": [
            "['elephant', 'tiger', 'otter', 'orangutan', 'penguin']\n",
            "orangutan\n",
            "['tortoise', 'elephant', 'tiger', 'otter', 'orangutan', 'penguin', 'tortoise']\n",
            "7\n",
            "['tortoise', 'elephant', 'tiger', 'otter', 'penguin', 'tortoise']\n",
            "['', 'elephant', 'tiger', 'otter', 'penguin', 'tortoise']\n"
          ],
          "name": "stdout"
        }
      ]
    },
    {
      "cell_type": "markdown",
      "metadata": {
        "id": "iopPhVNUVI_p",
        "colab_type": "text"
      },
      "source": [
        "\n",
        "\n",
        "### P2.PY\n",
        "\n",
        "\n"
      ]
    },
    {
      "cell_type": "code",
      "metadata": {
        "id": "4kMd_uBjVI_q",
        "colab_type": "code",
        "outputId": "fcacaca9-3419-4d12-d317-ee02f373afe5",
        "colab": {
          "base_uri": "https://localhost:8080/",
          "height": 136
        }
      },
      "source": [
        "# Declare a list with 5 names, and print out the length of that list.\n",
        "names = ['Alex', 'Mimi', 'Mike', 'Maria', 'Rita']\n",
        "print (len(names))\n",
        "\n",
        "# Print the 3rd name on the list\n",
        "print (names[2])\n",
        "\n",
        "# Delete the first name on the list\n",
        "# names.pop(0)\n",
        "print(names.pop(0))\n",
        "# names.pop(0)\n",
        "print(names)\n",
        "\n",
        "# Re-add the name you deleted to the end of the list\n",
        "names.insert(4,'Alex')\n",
        "# names.append ('Alex')\n",
        "print(names)\n",
        "\n",
        "# Replace the 2nd name on the list with a new name.\n",
        "names[1]='Nick'\n",
        "print(names)\n",
        "\n",
        "# Add 3 new names to the end of the list.\n",
        "names[5:]=['John','Ted','Leo']\n",
        "print (names)\n",
        "# print(names[-1])\n",
        "# print(names[-2])\n",
        "# print(names[:-2])\n",
        "# print(names[2:])\n",
        "# print(names[2:3])"
      ],
      "execution_count": 0,
      "outputs": [
        {
          "output_type": "stream",
          "text": [
            "5\n",
            "Mike\n",
            "Alex\n",
            "['Mimi', 'Mike', 'Maria', 'Rita']\n",
            "['Mimi', 'Mike', 'Maria', 'Rita', 'Alex']\n",
            "['Mimi', 'Nick', 'Maria', 'Rita', 'Alex']\n",
            "['Mimi', 'Nick', 'Maria', 'Rita', 'Alex', 'John', 'Ted', 'Leo']\n"
          ],
          "name": "stdout"
        }
      ]
    },
    {
      "cell_type": "markdown",
      "metadata": {
        "id": "lydOzGvFVI_6",
        "colab_type": "text"
      },
      "source": [
        "\n",
        "\n",
        "### P3.PY\n",
        "\n",
        "\n"
      ]
    },
    {
      "cell_type": "code",
      "metadata": {
        "id": "86gQFKLNVI_7",
        "colab_type": "code",
        "outputId": "6dfb8809-5aa3-4374-fbf7-ed17a891c759",
        "colab": {
          "base_uri": "https://localhost:8080/",
          "height": 153
        }
      },
      "source": [
        "\"\"\"\n",
        "Math Operations\n",
        "\"\"\"\n",
        "# Save a list with the numbers `2`, `4`, `6`, and `8` into a variable called `numbers`. Use this variable for all the problems in this PSET.\n",
        "numbers = [2,4,6,8]\n",
        "print(numbers)\n",
        "# Print the max of `numbers`.\n",
        "max_number = max(numbers)\n",
        "print (max_number)\n",
        "# Pop the last element in `numbers` off; re-insert it at index `2` and print the resultant list.\n",
        "last_number = numbers.pop(-1)\n",
        "\n",
        "print(numbers)\n",
        "numbers.insert (2,last_number)\n",
        "print (numbers)\n",
        "# Pop the second number in `numbers` off.\n",
        "\n",
        "numbers.pop(1)\n",
        "print (numbers)\n",
        "# Append `3` to `numbers`.\n",
        "\n",
        "numbers.append(3)\n",
        "print(numbers)\n",
        "# Print out the average number.\n",
        "x = len(numbers)\n",
        "y = sum(numbers)\n",
        "print (x,y)\n",
        "average = y / x\n",
        "print (average)"
      ],
      "execution_count": 0,
      "outputs": [
        {
          "output_type": "stream",
          "text": [
            "[2, 4, 6, 8]\n",
            "8\n",
            "[2, 4, 6]\n",
            "[2, 4, 8, 6]\n",
            "[2, 8, 6]\n",
            "[2, 8, 6, 3]\n",
            "4 19\n",
            "4.75\n"
          ],
          "name": "stdout"
        }
      ]
    },
    {
      "cell_type": "markdown",
      "metadata": {
        "id": "m40a2IGVVI_-",
        "colab_type": "text"
      },
      "source": [
        "\n",
        "\n",
        "## SORTING\n",
        "\n",
        "\n"
      ]
    },
    {
      "cell_type": "markdown",
      "metadata": {
        "id": "2XYhGsPjVUx8",
        "colab_type": "text"
      },
      "source": [
        "### P1.PY"
      ]
    },
    {
      "cell_type": "code",
      "metadata": {
        "id": "NRi8DF1eVI_-",
        "colab_type": "code",
        "outputId": "487b0cbc-d489-496f-b452-a42571721377",
        "colab": {
          "base_uri": "https://localhost:8080/",
          "height": 125
        }
      },
      "source": [
        "\"\"\"\n",
        "Spotify Playlists - Sorting\n",
        "\"\"\"\n",
        "# You work for Spotify and are creating a feature for users to alphabetize their playlists by song title. Below is a list of titles from a sample playlist.\n",
        "\n",
        "playlist_titles = ['Tiny Dancer', 'At Last', 'Fortunate Son', \n",
        "'Hey Jude', 'Isn\\'t She Lovely', 'Just the Way You Are', 'I\\'m Yours',\n",
        "'Vienna', 'Roxanne', 'Dancing in the Moonlight']\n",
        "\n",
        "# Alphabetize these songs and print the result.\n",
        "playlist_titles.sort()\n",
        "srt_list = sorted (playlist_titles)\n",
        "print (playlist_titles)\n",
        "print (srt_list)\n",
        "\n",
        "\n",
        "# Now do the reverse.\n",
        "playlist_titles.sort(reverse=True)\n",
        "srt_list = sorted (playlist_titles, reverse=True)\n",
        "print (playlist_titles)\n",
        "print (srt_list)\n"
      ],
      "execution_count": 0,
      "outputs": [
        {
          "output_type": "stream",
          "text": [
            "['At Last', 'Dancing in the Moonlight', 'Fortunate Son', 'Hey Jude', \"I'm Yours\", \"Isn't She Lovely\", 'Just the Way You Are', 'Roxanne', 'Tiny Dancer', 'Vienna']\n",
            "['At Last', 'Dancing in the Moonlight', 'Fortunate Son', 'Hey Jude', \"I'm Yours\", \"Isn't She Lovely\", 'Just the Way You Are', 'Roxanne', 'Tiny Dancer', 'Vienna']\n",
            "['Vienna', 'Tiny Dancer', 'Roxanne', 'Just the Way You Are', \"Isn't She Lovely\", \"I'm Yours\", 'Hey Jude', 'Fortunate Son', 'Dancing in the Moonlight', 'At Last']\n",
            "['Vienna', 'Tiny Dancer', 'Roxanne', 'Just the Way You Are', \"Isn't She Lovely\", \"I'm Yours\", 'Hey Jude', 'Fortunate Son', 'Dancing in the Moonlight', 'At Last']\n"
          ],
          "name": "stdout"
        }
      ]
    },
    {
      "cell_type": "markdown",
      "metadata": {
        "id": "0xVs38QYVJAA",
        "colab_type": "text"
      },
      "source": [
        "\n",
        "\n",
        "### P2.PY\n",
        "\n",
        "\n"
      ]
    },
    {
      "cell_type": "code",
      "metadata": {
        "id": "VXtT3BB0VJAB",
        "colab_type": "code",
        "outputId": "59693d63-c0b6-4ae9-cbc0-06575ff7405f",
        "colab": {
          "base_uri": "https://localhost:8080/",
          "height": 51
        }
      },
      "source": [
        "\"\"\"\n",
        "Ordering Random Numbers\n",
        "\"\"\"\n",
        "\n",
        "# Create a list of 6 randomly generated numbers called numbers and sort it in descending order.\n",
        "\n",
        "numbers = [3,6,1,7,2,10]\n",
        "numbers.sort(reverse=True)\n",
        "descend = sorted (numbers, reverse=True)\n",
        "print(numbers)\n",
        "print(descend)"
      ],
      "execution_count": 0,
      "outputs": [
        {
          "output_type": "stream",
          "text": [
            "[10, 7, 6, 3, 2, 1]\n",
            "[10, 7, 6, 3, 2, 1]\n"
          ],
          "name": "stdout"
        }
      ]
    },
    {
      "cell_type": "markdown",
      "metadata": {
        "id": "cN7amwMkVJAR",
        "colab_type": "text"
      },
      "source": [
        "## LIST MANIPULATION\n"
      ]
    },
    {
      "cell_type": "markdown",
      "metadata": {
        "id": "ImDqbHx5VY4P",
        "colab_type": "text"
      },
      "source": [
        "### P1.PY"
      ]
    },
    {
      "cell_type": "code",
      "metadata": {
        "id": "z8OOTUg6VJAT",
        "colab_type": "code",
        "outputId": "6bb5d2c1-489f-4eaf-fb5d-e7c85aa64f9c",
        "colab": {
          "base_uri": "https://localhost:8080/",
          "height": 68
        }
      },
      "source": [
        "\"\"\"\n",
        "Phone Numbers\n",
        "\"\"\"\n",
        "\n",
        "# Parse this phone number so that a computer can process\n",
        "# it. (Hint: It can't include any non-numeric\n",
        "# characters.)\n",
        "\n",
        "cell = '1.192.168.0143'\n",
        "y = cell.split('.')\n",
        "print (cell)\n",
        "print (y)\n",
        "b = ''.join(y)\n",
        "print (b)"
      ],
      "execution_count": 0,
      "outputs": [
        {
          "output_type": "stream",
          "text": [
            "1.192.168.0143\n",
            "['1', '192', '168', '0143']\n",
            "11921680143\n"
          ],
          "name": "stdout"
        }
      ]
    },
    {
      "cell_type": "markdown",
      "metadata": {
        "id": "HpUeu1YiVJAX",
        "colab_type": "text"
      },
      "source": [
        "\n",
        "\n",
        "### P2.PY\n",
        "\n",
        "\n"
      ]
    },
    {
      "cell_type": "code",
      "metadata": {
        "id": "O1ZpW64qVJAa",
        "colab_type": "code",
        "outputId": "c577c7d4-bb07-4047-e3dd-a73d478704c7",
        "colab": {
          "base_uri": "https://localhost:8080/",
          "height": 102
        }
      },
      "source": [
        "\"\"\"\n",
        "Basic Math Ops\n",
        "\"\"\"\n",
        "\n",
        "# Given the list below, assign the correct values to the variables below.\n",
        "\t# my_sum = \n",
        "\t# my_min = \n",
        "\t# my_max = \n",
        "\t# my_range = \n",
        "\t# my_mean =\n",
        "\n",
        "nums = [2, 19, 20, 12, 6, 24, 8, 30, 28, 25]\n",
        "my_sum = sum(nums)\n",
        "print (my_sum)\n",
        "my_min = min(nums)\n",
        "print(my_min)\n",
        "my_max = max (nums)\n",
        "print(my_max) \n",
        "my_range = range (my_min, my_max)\n",
        "print(my_range)\n",
        "my_mean = sum (nums) / len (nums)\n",
        "print(my_mean)\n",
        "# Once you finish, print out each value **on its own line** in this format: \"my_median = \" etc.\n",
        "\n"
      ],
      "execution_count": 0,
      "outputs": [
        {
          "output_type": "stream",
          "text": [
            "174\n",
            "2\n",
            "30\n",
            "range(2, 30)\n",
            "17.4\n"
          ],
          "name": "stdout"
        }
      ]
    },
    {
      "cell_type": "markdown",
      "metadata": {
        "id": "X3BMzIHyVJAd",
        "colab_type": "text"
      },
      "source": [
        "\n",
        "\n",
        "### P3.PY\n",
        "\n",
        "\n"
      ]
    },
    {
      "cell_type": "code",
      "metadata": {
        "id": "jz3ccPm3VJAe",
        "colab_type": "code",
        "outputId": "31b8bf0c-16a7-4813-c334-2e5814cc7eca",
        "colab": {
          "base_uri": "https://localhost:8080/",
          "height": 68
        }
      },
      "source": [
        "\"\"\"\n",
        "Merge Lists with Duplicates\n",
        "\"\"\"\n",
        "\n",
        "# Use the two lists below to solve this problem. Print out the result from each section as you go along.\n",
        "\n",
        "# list1, list2 = [2, 8, 6], [10, 4, 12]\n",
        "# A) Add another instance of each item in list1 to list1 again and assign the results to list3.\n",
        "list 1 = [2,8,6]\n",
        "print (list1)\n",
        "list_1 = list1[:]\n",
        "print (list_1)\n",
        "list3 = list1.append (list_1)\n",
        "print (list3)\n",
        "\n",
        "# x = list1, list2\n",
        "# y = list (x)\n",
        "# print(x)\n",
        "# # print(list(x))\n",
        "# b = y.pop (0)\n",
        "# c = list (b)\n",
        "# print (c)\n",
        "# x.join(c)\n",
        "# print (y)\n",
        "# # y = list3.append ([2,8,6])\n",
        "# # y=1\n",
        "# # y += 1\n",
        "# # print(y)\n",
        "# # print(list1, list2)\n",
        "# # list3 = None\n",
        "\n",
        "\n",
        "# B) Combine the two given lists and assign them to list4.\n",
        "# list4 = None\n",
        "\n",
        "\n",
        "# C) Replace the first 3 items in list 3 with the numbers 13, 16, 9.\n",
        "# list3[:2] = None\n",
        "\n",
        "# D) Merge list3 and list4 to create a list containing no duplicates and store this in list5.\n",
        "# list5 = None\n",
        "\n",
        "\n",
        "# Take a look at your printed statements to see the evolution of your lists with each step of this problem.\n"
      ],
      "execution_count": 0,
      "outputs": [
        {
          "output_type": "stream",
          "text": [
            "[2, 8, 6]\n",
            "[2, 8, 6]\n",
            "None\n"
          ],
          "name": "stdout"
        }
      ]
    },
    {
      "cell_type": "code",
      "metadata": {
        "id": "boG6G08lZDHu",
        "colab_type": "code",
        "colab": {}
      },
      "source": [
        ""
      ],
      "execution_count": 0,
      "outputs": []
    },
    {
      "cell_type": "markdown",
      "metadata": {
        "id": "Qqtm5kHYVJAg",
        "colab_type": "text"
      },
      "source": [
        "\n",
        "\n",
        "### P4.PY\n",
        "\n",
        "\n"
      ]
    },
    {
      "cell_type": "code",
      "metadata": {
        "id": "wgF_gvjVVJAh",
        "colab_type": "code",
        "outputId": "3a6a33a1-5534-4760-aca5-de068d66941a",
        "colab": {
          "base_uri": "https://localhost:8080/",
          "height": 85
        }
      },
      "source": [
        "\"\"\"\n",
        "Cool Runnings!\n",
        "\"\"\"\n",
        "\n",
        "# Here's a quote from the movie 'Cool Runnings'. :)\n",
        "\n",
        "# Replace the word bobsled with \"YOLO\" and print the resultant list as 4 sentences (i.e. NOT a list), each on a new line.\n",
        "\n",
        "cool_runnings = [\n",
        "\t'Feel', 'the', 'rhythm.',\n",
        "\t'Feel', 'the', 'rhyme.',\n",
        "\t'Get', 'on', 'up.',\n",
        "\t'It\\'s', 'bobsled', 'time!'\n",
        "]\n",
        "cool_runnings [cool_runnings.index ('bobsled')] = 'YOLO'\n",
        "print (cool_runnings)\n",
        "sentence = ' '.join (cool_runnings)\n",
        "print (sentence)\n",
        "sentence.split ('.')\n",
        "print (f'.split(): {sentence}\\n')"
      ],
      "execution_count": 0,
      "outputs": [
        {
          "output_type": "stream",
          "text": [
            "['Feel', 'the', 'rhythm.', 'Feel', 'the', 'rhyme.', 'Get', 'on', 'up.', \"It's\", 'YOLO', 'time!']\n",
            "Feel the rhythm. Feel the rhyme. Get on up. It's YOLO time!\n",
            ".split(): Feel the rhythm. Feel the rhyme. Get on up. It's YOLO time!\n",
            "\n"
          ],
          "name": "stdout"
        }
      ]
    },
    {
      "cell_type": "markdown",
      "metadata": {
        "id": "fyknlYbQVJAj",
        "colab_type": "text"
      },
      "source": [
        "## LIST CHALLENGES\n",
        "\n",
        "\n"
      ]
    },
    {
      "cell_type": "markdown",
      "metadata": {
        "id": "qYrO5tA-VdxK",
        "colab_type": "text"
      },
      "source": [
        "### P1.PY"
      ]
    },
    {
      "cell_type": "code",
      "metadata": {
        "id": "R1ouYtGvVJAq",
        "colab_type": "code",
        "outputId": "6a9662fb-8b74-4770-b964-318fd679982e",
        "colab": {
          "base_uri": "https://localhost:8080/",
          "height": 34
        }
      },
      "source": [
        "\"\"\"\n",
        "CHALLENGE - Extensions\n",
        "\"\"\"\n",
        "\n",
        "# ** Challenge** Add each element of the tuple1 to list1 *individually* and print the result.\n",
        "\n",
        "list1 = [6, 12, 9, 4, 10, 1]\n",
        "tuple1 = [(15,3), (6,2), (1, 8)]\n",
        "# a = list1[:]\n",
        "# b = list1[:]\n",
        "# c = list1[:]\n",
        "# x = tuple1[:]\n",
        "# y = tuple1[:]\n",
        "# z = tuple1[:]\n",
        "# a = list1.pop()\n",
        "# b = list1.pop()\n",
        "# c = list1.pop()\n",
        "# d = list1.pop()\n",
        "# e = list1.pop()\n",
        "# f = list1.pop()\n",
        "g = tuple1.pop()\n",
        "h = tuple1.pop()\n",
        "l = tuple1.pop()\n",
        "# print (a,b,c,d,e,f,g,h,l)\n",
        "list1.insert(1,g)\n",
        "list1.insert(3,h)\n",
        "list1.insert(5,l)\n",
        "print(list1)\n",
        "# list1.insert(tuple1)\n",
        "# print(list1)\n"
      ],
      "execution_count": 0,
      "outputs": [
        {
          "output_type": "stream",
          "text": [
            "[6, (1, 8), 12, (6, 2), 9, (15, 3), 4, 10, 1]\n"
          ],
          "name": "stdout"
        }
      ]
    },
    {
      "cell_type": "markdown",
      "metadata": {
        "id": "X5MSdZzXVJAt",
        "colab_type": "text"
      },
      "source": [
        "\n",
        "\n",
        "### P2.PY\n",
        "\n",
        "\n"
      ]
    },
    {
      "cell_type": "code",
      "metadata": {
        "id": "xyu2RSZcVJAt",
        "colab_type": "code",
        "outputId": "4ebb9088-e448-4a3f-c99f-048596bc067c",
        "colab": {
          "base_uri": "https://localhost:8080/",
          "height": 221
        }
      },
      "source": [
        "\"\"\"\n",
        "CHALLENGE - Core Statistics Calculations\n",
        "\"\"\"\n",
        "\n",
        "# Given the sample below, find the mean, median, mode, variance, and standard\n",
        "# deviation of this sample. Print them out separately, but in the same format as before.\n",
        "\t# my_median = \n",
        "\t# my_mode = \n",
        "\t# my_variance = \n",
        "\t# my_sd = \n",
        "\n",
        "sample = [6, 19, 20, 12, 6, 24, 8, 30, 28, 25]\n",
        "sample.sort()\n",
        "print (sample)\n",
        "y = [sample.count (sample[0]), sample.count (sample[1]),sample.count (sample[2]),sample.count (sample[3]),sample.count (sample[4]),sample.count (sample[5]),sample.count (sample[6]),sample.count (sample[7]),sample.count (sample[8]),sample.count (sample[9])]\n",
        "print (y)\n",
        "z = y.index (max(y))\n",
        "my_mode = sample [z]\n",
        "print(my_mode)\n",
        "my_mean = sum (sample) / len (sample)\n",
        "print (my_mean)\n",
        "b = int((len (sample) / 2)+ 1 )\n",
        "print (b)\n",
        "if len(sample) %2 != 0:\n",
        " my_median = sample[b]\n",
        "else:\n",
        " my_median = (sample[b] + sample[b-1])/2\n",
        "print (my_median)\n",
        "print (sample)\n",
        "variance1 = int ((my_mean - sample[0])**2 + (my_mean - sample[1])**2 + (my_mean - sample[2])**2 + (my_mean - sample[3])**2 + (my_mean - sample[0])**2 + (my_mean - sample[0])**2)\n",
        "variance2 = (variance1) / len (sample)\n",
        "import math as m\n",
        "stdeviation = int (m.sqrt (variance2))\n",
        "\n",
        "# print (variance1, variance2, stdeviation)\n",
        "\t# my_mode = \n",
        "\t# my_variance = \n",
        "\t# my_sd = \n",
        "\n",
        "# Once you finish, print out each value **on its own line** in this format: \"median = \" etc.\n",
        "print(f'mean = {my_mean}')\n",
        "print(f'median = {my_median}')\n",
        "print(f'mode = {my_mode}')\n",
        "print(f'variance = {variance2}')\n",
        "print(f'standard deviation = {stdeviation}')\n",
        "\n"
      ],
      "execution_count": 0,
      "outputs": [
        {
          "output_type": "stream",
          "text": [
            "[6, 6, 8, 12, 19, 20, 24, 25, 28, 30]\n",
            "[2, 2, 1, 1, 1, 1, 1, 1, 1, 1]\n",
            "6\n",
            "17.8\n",
            "6\n",
            "22.0\n",
            "[6, 6, 8, 12, 19, 20, 24, 25, 28, 30]\n",
            "mean = 17.8\n",
            "median = 22.0\n",
            "mode = 6\n",
            "variance = 68.6\n",
            "standard deviation = 8\n"
          ],
          "name": "stdout"
        }
      ]
    }
  ]
}